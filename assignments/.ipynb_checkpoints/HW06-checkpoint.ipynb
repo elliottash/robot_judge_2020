{
 "cells": [
  {
   "cell_type": "markdown",
   "metadata": {},
   "source": [
    "# HW06: Python \n",
    "(due November 3rd)"
   ]
  },
  {
   "cell_type": "markdown",
   "metadata": {},
   "source": [
    "# Heterogeneous Treatment Effects with Keras MLP"
   ]
  },
  {
   "cell_type": "code",
   "execution_count": 1,
   "metadata": {},
   "outputs": [],
   "source": [
    "import pandas as pd\n",
    "from tensorflow import keras"
   ]
  },
  {
   "cell_type": "markdown",
   "metadata": {},
   "source": [
    "### Dataset on RCT study of case management on mental health outcomes.\n"
   ]
  },
  {
   "cell_type": "code",
   "execution_count": 2,
   "metadata": {},
   "outputs": [
    {
     "data": {
      "text/plain": [
       "{'trialid': 'Trial ID',\n",
       " 'centreid': 'Trial centre',\n",
       " 'status': 'Patient status at baseline',\n",
       " 'age': 'Age in years at baseline',\n",
       " 'sex': 'Sex',\n",
       " 'afcarib': 'Ethnic group',\n",
       " 'ocfabth': \"Father's social class at birth\",\n",
       " 'chron1l': 'Months since onset of psychosis, logged',\n",
       " 'hos94': 'Days in hospital for psychiatric reasons: 2 years before baseline',\n",
       " 'cprs94': 'Psychopathology at baseline (CPRS)',\n",
       " 'das94': 'Disability at baseline (DAS)',\n",
       " 'sat94': '(Dis)satisfaction with services at baseline',\n",
       " 'rand': 'Randomised group',\n",
       " 'hos96': 'Days in hospital for psychiatric reasons: 2 years after baseline',\n",
       " 'cprs96': 'Psychopathology at 2 years (CPRS)',\n",
       " 'sat96': '(Dis)satisfaction with services at 2 years'}"
      ]
     },
     "execution_count": 2,
     "metadata": {},
     "output_type": "execute_result"
    }
   ],
   "source": [
    "# show variable labels\n",
    "pd.read_stata('http://www.homepages.ucl.ac.uk/~rmjwiww/stata/missing/uk500.dta', iterator=True).variable_labels()"
   ]
  },
  {
   "cell_type": "code",
   "execution_count": 7,
   "metadata": {},
   "outputs": [
    {
     "name": "stdout",
     "output_type": "stream",
     "text": [
      "      trialid     centreid       status   age     sex         afcarib ocfabth  \\\n",
      "1       107.0  St George's  Out-patient  27.0    male           Other       A   \n",
      "2    222005.0    St Mary's  In hospital  41.0    male           Other       D   \n",
      "3    222018.0    St Mary's  In hospital  25.0    male           Other      C2   \n",
      "5    312015.0       King's  Out-patient  31.0  female           Other       A   \n",
      "6    221023.0    St Mary's  In hospital  35.0    male  Afro-Caribbean      C2   \n",
      "..        ...          ...          ...   ...     ...             ...     ...   \n",
      "488  221001.0    St Mary's  In hospital  23.0  female           Other       B   \n",
      "491  322003.0       King's  Out-patient  27.0  female           Other      C2   \n",
      "493     122.0  St George's  In hospital  58.0    male  Afro-Caribbean      C2   \n",
      "494  222042.0    St Mary's  In hospital  30.0    male           Other       B   \n",
      "497  212036.0    St Mary's  Out-patient  20.0  female           Other       D   \n",
      "\n",
      "      chron1l  hos94  cprs94     das94  sat94                       rand  \\\n",
      "1    3.178054   80.0     4.0  0.285714   18.0  Intensive case management   \n",
      "2    4.521789  240.0     6.0  0.750000   15.0  Intensive case management   \n",
      "3    4.094345   48.0    12.0  0.125000   18.0  Intensive case management   \n",
      "5    4.787492   60.0    28.0  2.375000   20.0  Intensive case management   \n",
      "6    4.430817   60.0    25.0  1.571428   24.0  Intensive case management   \n",
      "..        ...    ...     ...       ...    ...                        ...   \n",
      "488  4.564348   90.0    36.0  0.500000   19.0   Standard case management   \n",
      "491  3.871201  240.0    13.0  0.500000   18.0   Standard case management   \n",
      "493  4.682131   59.0    13.0  0.428571   17.0   Standard case management   \n",
      "494  4.564348   42.0    39.0  1.000000   20.0   Standard case management   \n",
      "497  3.806663  240.0    30.0  2.285713   21.0   Standard case management   \n",
      "\n",
      "     hos96  cprs96   sat96  \n",
      "1     27.0     3.0  22.000  \n",
      "2     15.0    13.0   9.000  \n",
      "3    263.0     6.0  21.375  \n",
      "5     45.0    19.0  17.000  \n",
      "6     58.0    27.0  19.125  \n",
      "..     ...     ...     ...  \n",
      "488  692.0    16.0  14.625  \n",
      "491   40.0    10.0  16.000  \n",
      "493    0.0    17.0  16.875  \n",
      "494   15.0    30.0  17.000  \n",
      "497  385.0     5.0  30.375  \n",
      "\n",
      "[246 rows x 16 columns]\n",
      "<class 'pandas.core.frame.DataFrame'>\n",
      "Int64Index: 246 entries, 1 to 497\n",
      "Data columns (total 16 columns):\n",
      " #   Column    Non-Null Count  Dtype   \n",
      "---  ------    --------------  -----   \n",
      " 0   trialid   246 non-null    float64 \n",
      " 1   centreid  246 non-null    category\n",
      " 2   status    246 non-null    category\n",
      " 3   age       246 non-null    float64 \n",
      " 4   sex       246 non-null    category\n",
      " 5   afcarib   246 non-null    category\n",
      " 6   ocfabth   246 non-null    category\n",
      " 7   chron1l   246 non-null    float32 \n",
      " 8   hos94     246 non-null    float64 \n",
      " 9   cprs94    246 non-null    float64 \n",
      " 10  das94     246 non-null    float64 \n",
      " 11  sat94     246 non-null    float64 \n",
      " 12  rand      246 non-null    category\n",
      " 13  hos96     246 non-null    float64 \n",
      " 14  cprs96    246 non-null    float64 \n",
      " 15  sat96     246 non-null    float64 \n",
      "dtypes: category(6), float32(1), float64(9)\n",
      "memory usage: 22.4 KB\n"
     ]
    }
   ],
   "source": [
    "# Load data \n",
    "df = pd.read_stata('http://www.homepages.ucl.ac.uk/~rmjwiww/stata/missing/uk500.dta')\n",
    "df = df.dropna()\n",
    "print(df)\n",
    "df.info()"
   ]
  },
  {
   "cell_type": "code",
   "execution_count": 8,
   "metadata": {},
   "outputs": [
    {
     "name": "stdout",
     "output_type": "stream",
     "text": [
      "      trialid     centreid  status   age  sex  afcarib  ocfabth   chron1l  \\\n",
      "1       107.0  St George's     1.0  27.0  1.0      1.0      0.0  3.178054   \n",
      "2    222005.0    St Mary's     0.0  41.0  1.0      1.0      4.0  4.521789   \n",
      "3    222018.0    St Mary's     0.0  25.0  1.0      1.0      3.0  4.094345   \n",
      "5    312015.0       King's     1.0  31.0  0.0      1.0      0.0  4.787492   \n",
      "6    221023.0    St Mary's     0.0  35.0  1.0      0.0      3.0  4.430817   \n",
      "..        ...          ...     ...   ...  ...      ...      ...       ...   \n",
      "488  221001.0    St Mary's     0.0  23.0  0.0      1.0      1.0  4.564348   \n",
      "491  322003.0       King's     1.0  27.0  0.0      1.0      3.0  3.871201   \n",
      "493     122.0  St George's     0.0  58.0  1.0      0.0      3.0  4.682131   \n",
      "494  222042.0    St Mary's     0.0  30.0  1.0      1.0      1.0  4.564348   \n",
      "497  212036.0    St Mary's     1.0  20.0  0.0      1.0      4.0  3.806663   \n",
      "\n",
      "     hos94  cprs94     das94  sat94                       rand  hos96  cprs96  \\\n",
      "1     80.0     4.0  0.285714   18.0  Intensive case management   27.0     3.0   \n",
      "2    240.0     6.0  0.750000   15.0  Intensive case management   15.0    13.0   \n",
      "3     48.0    12.0  0.125000   18.0  Intensive case management  263.0     6.0   \n",
      "5     60.0    28.0  2.375000   20.0  Intensive case management   45.0    19.0   \n",
      "6     60.0    25.0  1.571428   24.0  Intensive case management   58.0    27.0   \n",
      "..     ...     ...       ...    ...                        ...    ...     ...   \n",
      "488   90.0    36.0  0.500000   19.0   Standard case management  692.0    16.0   \n",
      "491  240.0    13.0  0.500000   18.0   Standard case management   40.0    10.0   \n",
      "493   59.0    13.0  0.428571   17.0   Standard case management    0.0    17.0   \n",
      "494   42.0    39.0  1.000000   20.0   Standard case management   15.0    30.0   \n",
      "497  240.0    30.0  2.285713   21.0   Standard case management  385.0     5.0   \n",
      "\n",
      "      sat96  \n",
      "1    22.000  \n",
      "2     9.000  \n",
      "3    21.375  \n",
      "5    17.000  \n",
      "6    19.125  \n",
      "..      ...  \n",
      "488  14.625  \n",
      "491  16.000  \n",
      "493  16.875  \n",
      "494  17.000  \n",
      "497  30.375  \n",
      "\n",
      "[246 rows x 16 columns]\n",
      "<class 'pandas.core.frame.DataFrame'>\n",
      "Int64Index: 246 entries, 1 to 497\n",
      "Data columns (total 16 columns):\n",
      " #   Column    Non-Null Count  Dtype   \n",
      "---  ------    --------------  -----   \n",
      " 0   trialid   246 non-null    float64 \n",
      " 1   centreid  246 non-null    category\n",
      " 2   status    246 non-null    float32 \n",
      " 3   age       246 non-null    float32 \n",
      " 4   sex       246 non-null    float32 \n",
      " 5   afcarib   246 non-null    float32 \n",
      " 6   ocfabth   246 non-null    float32 \n",
      " 7   chron1l   246 non-null    float32 \n",
      " 8   hos94     246 non-null    float32 \n",
      " 9   cprs94    246 non-null    float32 \n",
      " 10  das94     246 non-null    float32 \n",
      " 11  sat94     246 non-null    float32 \n",
      " 12  rand      246 non-null    category\n",
      " 13  hos96     246 non-null    float64 \n",
      " 14  cprs96    246 non-null    float64 \n",
      " 15  sat96     246 non-null    float64 \n",
      "dtypes: category(2), float32(10), float64(4)\n",
      "memory usage: 20.0 KB\n"
     ]
    }
   ],
   "source": [
    "#Encoding Categorical covariates and preparing the data for tensorflow\n",
    "covariates = ['status', 'sex', 'sat94', 'ocfabth', 'hos94', 'das94', 'cprs94', 'age', 'afcarib']\n",
    "covariates_cat = ['status', 'sex', 'ocfabth', 'afcarib']\n",
    "\n",
    "from sklearn.preprocessing import OrdinalEncoder\n",
    "encoder = OrdinalEncoder()\n",
    "df[covariates_cat] = encoder.fit_transform(df[covariates_cat])\n",
    "df[covariates] = df[covariates].astype('float32')\n",
    "print(df)\n",
    "df.info()"
   ]
  },
  {
   "cell_type": "code",
   "execution_count": 6,
   "metadata": {},
   "outputs": [
    {
     "data": {
      "text/html": [
       "<div>\n",
       "<style scoped>\n",
       "    .dataframe tbody tr th:only-of-type {\n",
       "        vertical-align: middle;\n",
       "    }\n",
       "\n",
       "    .dataframe tbody tr th {\n",
       "        vertical-align: top;\n",
       "    }\n",
       "\n",
       "    .dataframe thead th {\n",
       "        text-align: right;\n",
       "    }\n",
       "</style>\n",
       "<table border=\"1\" class=\"dataframe\">\n",
       "  <thead>\n",
       "    <tr style=\"text-align: right;\">\n",
       "      <th></th>\n",
       "      <th>sat96</th>\n",
       "      <th>hos96</th>\n",
       "      <th>cprs96</th>\n",
       "    </tr>\n",
       "  </thead>\n",
       "  <tbody>\n",
       "    <tr>\n",
       "      <th>count</th>\n",
       "      <td>246.000000</td>\n",
       "      <td>246.000000</td>\n",
       "      <td>246.000000</td>\n",
       "    </tr>\n",
       "    <tr>\n",
       "      <th>mean</th>\n",
       "      <td>17.271341</td>\n",
       "      <td>65.500000</td>\n",
       "      <td>17.790587</td>\n",
       "    </tr>\n",
       "    <tr>\n",
       "      <th>std</th>\n",
       "      <td>4.723009</td>\n",
       "      <td>104.046722</td>\n",
       "      <td>14.090911</td>\n",
       "    </tr>\n",
       "    <tr>\n",
       "      <th>min</th>\n",
       "      <td>9.000000</td>\n",
       "      <td>0.000000</td>\n",
       "      <td>0.000000</td>\n",
       "    </tr>\n",
       "    <tr>\n",
       "      <th>25%</th>\n",
       "      <td>14.000000</td>\n",
       "      <td>0.000000</td>\n",
       "      <td>7.000000</td>\n",
       "    </tr>\n",
       "    <tr>\n",
       "      <th>50%</th>\n",
       "      <td>17.000000</td>\n",
       "      <td>15.000000</td>\n",
       "      <td>15.000000</td>\n",
       "    </tr>\n",
       "    <tr>\n",
       "      <th>75%</th>\n",
       "      <td>20.187500</td>\n",
       "      <td>93.500000</td>\n",
       "      <td>26.000000</td>\n",
       "    </tr>\n",
       "    <tr>\n",
       "      <th>max</th>\n",
       "      <td>32.000000</td>\n",
       "      <td>692.000000</td>\n",
       "      <td>71.000000</td>\n",
       "    </tr>\n",
       "  </tbody>\n",
       "</table>\n",
       "</div>"
      ],
      "text/plain": [
       "            sat96       hos96      cprs96\n",
       "count  246.000000  246.000000  246.000000\n",
       "mean    17.271341   65.500000   17.790587\n",
       "std      4.723009  104.046722   14.090911\n",
       "min      9.000000    0.000000    0.000000\n",
       "25%     14.000000    0.000000    7.000000\n",
       "50%     17.000000   15.000000   15.000000\n",
       "75%     20.187500   93.500000   26.000000\n",
       "max     32.000000  692.000000   71.000000"
      ]
     },
     "execution_count": 6,
     "metadata": {},
     "output_type": "execute_result"
    }
   ],
   "source": [
    "# the post-treatment outcomes to analyze\n",
    "outcomes = ['sat96', 'hos96', 'cprs96']\n",
    "df[outcomes].describe()"
   ]
  },
  {
   "cell_type": "code",
   "execution_count": 10,
   "metadata": {},
   "outputs": [
    {
     "data": {
      "text/plain": [
       "Intensive case management    130\n",
       "Standard case management     116\n",
       "Name: rand, dtype: int64"
      ]
     },
     "execution_count": 10,
     "metadata": {},
     "output_type": "execute_result"
    }
   ],
   "source": [
    "# variable describing treatment status\n",
    "treatvar = 'rand'\n",
    "df[treatvar].value_counts()"
   ]
  },
  {
   "cell_type": "code",
   "execution_count": 11,
   "metadata": {},
   "outputs": [
    {
     "data": {
      "text/html": [
       "<div>\n",
       "<style scoped>\n",
       "    .dataframe tbody tr th:only-of-type {\n",
       "        vertical-align: middle;\n",
       "    }\n",
       "\n",
       "    .dataframe tbody tr th {\n",
       "        vertical-align: top;\n",
       "    }\n",
       "\n",
       "    .dataframe thead th {\n",
       "        text-align: right;\n",
       "    }\n",
       "</style>\n",
       "<table border=\"1\" class=\"dataframe\">\n",
       "  <thead>\n",
       "    <tr style=\"text-align: right;\">\n",
       "      <th></th>\n",
       "      <th>status</th>\n",
       "      <th>sex</th>\n",
       "      <th>sat94</th>\n",
       "      <th>ocfabth</th>\n",
       "      <th>hos94</th>\n",
       "      <th>das94</th>\n",
       "      <th>cprs94</th>\n",
       "      <th>age</th>\n",
       "      <th>afcarib</th>\n",
       "    </tr>\n",
       "  </thead>\n",
       "  <tbody>\n",
       "    <tr>\n",
       "      <th>count</th>\n",
       "      <td>246.000000</td>\n",
       "      <td>246.000000</td>\n",
       "      <td>246.000000</td>\n",
       "      <td>246.000000</td>\n",
       "      <td>246.000000</td>\n",
       "      <td>246.000000</td>\n",
       "      <td>246.000000</td>\n",
       "      <td>246.000000</td>\n",
       "      <td>246.000000</td>\n",
       "    </tr>\n",
       "    <tr>\n",
       "      <th>mean</th>\n",
       "      <td>0.605691</td>\n",
       "      <td>0.544715</td>\n",
       "      <td>18.837906</td>\n",
       "      <td>2.715447</td>\n",
       "      <td>94.776421</td>\n",
       "      <td>1.072794</td>\n",
       "      <td>19.362692</td>\n",
       "      <td>38.593494</td>\n",
       "      <td>0.723577</td>\n",
       "    </tr>\n",
       "    <tr>\n",
       "      <th>std</th>\n",
       "      <td>0.489698</td>\n",
       "      <td>0.499012</td>\n",
       "      <td>4.907598</td>\n",
       "      <td>1.188518</td>\n",
       "      <td>94.375053</td>\n",
       "      <td>0.820939</td>\n",
       "      <td>13.350190</td>\n",
       "      <td>11.050043</td>\n",
       "      <td>0.448140</td>\n",
       "    </tr>\n",
       "    <tr>\n",
       "      <th>min</th>\n",
       "      <td>0.000000</td>\n",
       "      <td>0.000000</td>\n",
       "      <td>9.000000</td>\n",
       "      <td>0.000000</td>\n",
       "      <td>1.000000</td>\n",
       "      <td>0.000000</td>\n",
       "      <td>0.000000</td>\n",
       "      <td>20.000000</td>\n",
       "      <td>0.000000</td>\n",
       "    </tr>\n",
       "    <tr>\n",
       "      <th>25%</th>\n",
       "      <td>0.000000</td>\n",
       "      <td>0.000000</td>\n",
       "      <td>15.750000</td>\n",
       "      <td>2.000000</td>\n",
       "      <td>33.250000</td>\n",
       "      <td>0.428571</td>\n",
       "      <td>9.000000</td>\n",
       "      <td>30.000000</td>\n",
       "      <td>0.000000</td>\n",
       "    </tr>\n",
       "    <tr>\n",
       "      <th>50%</th>\n",
       "      <td>1.000000</td>\n",
       "      <td>1.000000</td>\n",
       "      <td>19.000000</td>\n",
       "      <td>3.000000</td>\n",
       "      <td>63.000000</td>\n",
       "      <td>1.000000</td>\n",
       "      <td>17.000000</td>\n",
       "      <td>36.000000</td>\n",
       "      <td>1.000000</td>\n",
       "    </tr>\n",
       "    <tr>\n",
       "      <th>75%</th>\n",
       "      <td>1.000000</td>\n",
       "      <td>1.000000</td>\n",
       "      <td>22.000000</td>\n",
       "      <td>4.000000</td>\n",
       "      <td>126.000000</td>\n",
       "      <td>1.500000</td>\n",
       "      <td>27.000000</td>\n",
       "      <td>47.000000</td>\n",
       "      <td>1.000000</td>\n",
       "    </tr>\n",
       "    <tr>\n",
       "      <th>max</th>\n",
       "      <td>1.000000</td>\n",
       "      <td>1.000000</td>\n",
       "      <td>36.000000</td>\n",
       "      <td>5.000000</td>\n",
       "      <td>730.000000</td>\n",
       "      <td>4.714283</td>\n",
       "      <td>67.000000</td>\n",
       "      <td>65.000000</td>\n",
       "      <td>1.000000</td>\n",
       "    </tr>\n",
       "  </tbody>\n",
       "</table>\n",
       "</div>"
      ],
      "text/plain": [
       "           status         sex       sat94     ocfabth       hos94       das94  \\\n",
       "count  246.000000  246.000000  246.000000  246.000000  246.000000  246.000000   \n",
       "mean     0.605691    0.544715   18.837906    2.715447   94.776421    1.072794   \n",
       "std      0.489698    0.499012    4.907598    1.188518   94.375053    0.820939   \n",
       "min      0.000000    0.000000    9.000000    0.000000    1.000000    0.000000   \n",
       "25%      0.000000    0.000000   15.750000    2.000000   33.250000    0.428571   \n",
       "50%      1.000000    1.000000   19.000000    3.000000   63.000000    1.000000   \n",
       "75%      1.000000    1.000000   22.000000    4.000000  126.000000    1.500000   \n",
       "max      1.000000    1.000000   36.000000    5.000000  730.000000    4.714283   \n",
       "\n",
       "           cprs94         age     afcarib  \n",
       "count  246.000000  246.000000  246.000000  \n",
       "mean    19.362692   38.593494    0.723577  \n",
       "std     13.350190   11.050043    0.448140  \n",
       "min      0.000000   20.000000    0.000000  \n",
       "25%      9.000000   30.000000    0.000000  \n",
       "50%     17.000000   36.000000    1.000000  \n",
       "75%     27.000000   47.000000    1.000000  \n",
       "max     67.000000   65.000000    1.000000  "
      ]
     },
     "execution_count": 11,
     "metadata": {},
     "output_type": "execute_result"
    }
   ],
   "source": [
    "# covariates for predicting the outcome conditional on treatment\n",
    "df[covariates].describe()"
   ]
  },
  {
   "cell_type": "code",
   "execution_count": 15,
   "metadata": {},
   "outputs": [
    {
     "name": "stdout",
     "output_type": "stream",
     "text": [
      "(130, 16)\n",
      "(116, 16)\n"
     ]
    }
   ],
   "source": [
    "# Subset the dataset by treatment (intensive) and control (standard)\n",
    "df_treat = df.loc[df['rand'] == 'Intensive case management']\n",
    "print(df_treat.shape)\n",
    "df_control = df.loc[df['rand'] == 'Standard case management']\n",
    "print(df_control.shape)"
   ]
  },
  {
   "cell_type": "markdown",
   "metadata": {},
   "source": [
    "### Choose one of the three outcomes to analyze. Build two FFNN / MLP models to predict the outcome based on the covariates. The first model should use the treatment dataset, the second model should use the control dataset."
   ]
  },
  {
   "cell_type": "code",
   "execution_count": 73,
   "metadata": {},
   "outputs": [
    {
     "name": "stdout",
     "output_type": "stream",
     "text": [
      "9\n"
     ]
    }
   ],
   "source": [
    "# build MLP models with at least 2 hidden layers, ReLU activation, batch normalization, dropout\n",
    "features = ['status', 'sex', 'sat94', 'ocfabth', 'hos94', 'das94', 'cprs94', 'age', 'afcarib']\n",
    "print(len(features))\n",
    "\n",
    "model_treat = keras.models.Sequential()\n",
    "model_control = keras.models.Sequential()\n",
    "#TODO\n",
    "model_treat.add(keras.layers.BatchNormalization(batch_input_shape=(None, len(features))))\n",
    "model_treat.add(keras.layers.Dropout(0.2, batch_input_shape=(None, len(features))))\n",
    "model_treat.add(keras.layers.Dense(50, activation=\"relu\"))\n",
    "model_treat.add(keras.layers.Dense(50, activation=\"relu\"))\n",
    "model_treat.add(keras.layers.Dense(1, activation=\"relu\"))\n",
    "\n",
    "\n",
    "model_control.add(keras.layers.BatchNormalization(batch_input_shape=(None, len(features))))\n",
    "model_control.add(keras.layers.Dropout(0.2, batch_input_shape=(None, len(features))))\n",
    "model_control.add(keras.layers.Dense(50, activation=\"relu\"))\n",
    "model_control.add(keras.layers.Dense(50, activation=\"relu\"))\n",
    "model_control.add(keras.layers.Dense(1, activation=\"relu\"))"
   ]
  },
  {
   "cell_type": "code",
   "execution_count": 74,
   "metadata": {},
   "outputs": [],
   "source": [
    "# compile the models\n",
    "#TODO\n",
    "model_treat.compile(loss=\"mean_squared_error\",\n",
    "              optimizer=\"adam\",\n",
    "              metrics=[\"mean_squared_error\"])\n",
    "\n",
    "model_control.compile(loss=\"mean_squared_error\",\n",
    "              optimizer=\"adam\",\n",
    "              metrics=[\"mean_squared_error\"])"
   ]
  },
  {
   "cell_type": "code",
   "execution_count": 82,
   "metadata": {},
   "outputs": [
    {
     "name": "stdout",
     "output_type": "stream",
     "text": [
      "(130, 9)\n",
      "Epoch 1/100\n",
      "4/4 [==============================] - 0s 13ms/step - loss: 10066.3730 - mean_squared_error: 10066.3730 - val_loss: 4811.7139 - val_mean_squared_error: 4811.7139\n",
      "Epoch 2/100\n",
      "4/4 [==============================] - 0s 14ms/step - loss: 9397.6045 - mean_squared_error: 9397.6045 - val_loss: 4806.5283 - val_mean_squared_error: 4806.5283\n",
      "Epoch 3/100\n",
      "4/4 [==============================] - 0s 17ms/step - loss: 9415.0254 - mean_squared_error: 9415.0254 - val_loss: 4809.4395 - val_mean_squared_error: 4809.4395\n",
      "Epoch 4/100\n",
      "4/4 [==============================] - 0s 15ms/step - loss: 10110.7568 - mean_squared_error: 10110.7568 - val_loss: 4803.1182 - val_mean_squared_error: 4803.1182\n",
      "Epoch 5/100\n",
      "4/4 [==============================] - 0s 11ms/step - loss: 10776.3477 - mean_squared_error: 10776.3477 - val_loss: 4800.4775 - val_mean_squared_error: 4800.4775\n",
      "Epoch 6/100\n",
      "4/4 [==============================] - 0s 15ms/step - loss: 9020.7432 - mean_squared_error: 9020.7432 - val_loss: 4800.4443 - val_mean_squared_error: 4800.4443\n",
      "Epoch 7/100\n",
      "4/4 [==============================] - 0s 11ms/step - loss: 8951.8994 - mean_squared_error: 8951.8994 - val_loss: 4809.4814 - val_mean_squared_error: 4809.4814\n",
      "Epoch 8/100\n",
      "4/4 [==============================] - 0s 11ms/step - loss: 10054.0791 - mean_squared_error: 10054.0791 - val_loss: 4804.8779 - val_mean_squared_error: 4804.8779\n",
      "Epoch 9/100\n",
      "4/4 [==============================] - 0s 11ms/step - loss: 9590.8125 - mean_squared_error: 9590.8125 - val_loss: 4806.5581 - val_mean_squared_error: 4806.5581\n",
      "Epoch 10/100\n",
      "4/4 [==============================] - 0s 17ms/step - loss: 9469.3984 - mean_squared_error: 9469.3984 - val_loss: 4830.8662 - val_mean_squared_error: 4830.8662\n",
      "Epoch 11/100\n",
      "4/4 [==============================] - 0s 17ms/step - loss: 9882.5742 - mean_squared_error: 9882.5742 - val_loss: 4842.4287 - val_mean_squared_error: 4842.4287\n",
      "Epoch 00011: early stopping\n",
      "Epoch 1/100\n",
      "3/3 [==============================] - 0s 17ms/step - loss: 6474.2051 - mean_squared_error: 6474.2051 - val_loss: 22047.7246 - val_mean_squared_error: 22047.7246\n",
      "Epoch 2/100\n",
      "3/3 [==============================] - 0s 18ms/step - loss: 6030.2310 - mean_squared_error: 6030.2310 - val_loss: 22081.2207 - val_mean_squared_error: 22081.2207\n",
      "Epoch 3/100\n",
      "3/3 [==============================] - 0s 17ms/step - loss: 5876.5454 - mean_squared_error: 5876.5454 - val_loss: 22099.4395 - val_mean_squared_error: 22099.4395\n",
      "Epoch 4/100\n",
      "3/3 [==============================] - 0s 33ms/step - loss: 6226.2861 - mean_squared_error: 6226.2861 - val_loss: 22090.2812 - val_mean_squared_error: 22090.2812\n",
      "Epoch 5/100\n",
      "3/3 [==============================] - 0s 18ms/step - loss: 6070.8560 - mean_squared_error: 6070.8560 - val_loss: 22100.5625 - val_mean_squared_error: 22100.5625\n",
      "Epoch 6/100\n",
      "3/3 [==============================] - 0s 25ms/step - loss: 6119.0366 - mean_squared_error: 6119.0366 - val_loss: 22109.0801 - val_mean_squared_error: 22109.0801\n",
      "Epoch 00006: early stopping\n"
     ]
    }
   ],
   "source": [
    "# fit separate models on the treatment dataset and control dataset\n",
    "# use early stopping\n",
    "#TODO\n",
    "import numpy as np\n",
    "\n",
    "y_treat = np.asarray(df_treat['hos96']).astype('float32')\n",
    "y_control = np.asarray(df_control['hos96']).astype('float32')\n",
    "X_treat = np.asarray(df_treat[features]).astype('float32')\n",
    "print(X_treat.shape)\n",
    "X_control = np.asarray(df_control[features]).astype('float32')\n",
    "\n",
    "es = keras.callbacks.EarlyStopping(monitor='val_loss', mode='min', verbose=1, patience=5)\n",
    "\n",
    "history_treat = model_treat.fit(X_treat, y_treat, epochs=100,\n",
    "                    validation_split=0.2, callbacks=[es])\n",
    "\n",
    "history_control = model_control.fit(X_control, y_control, epochs=100,\n",
    "                    validation_split=0.2, callbacks=[es])\n"
   ]
  },
  {
   "cell_type": "code",
   "execution_count": 83,
   "metadata": {},
   "outputs": [
    {
     "name": "stdout",
     "output_type": "stream",
     "text": [
      "treat error:\n"
     ]
    },
    {
     "data": {
      "image/png": "[encoded data removed]",
      "text/plain": [
       "<Figure size 432x288 with 1 Axes>"
      ]
     },
     "metadata": {
      "needs_background": "light"
     },
     "output_type": "display_data"
    },
    {
     "name": "stdout",
     "output_type": "stream",
     "text": [
      "control error:\n"
     ]
    },
    {
     "data": {
      "image/png": "[encoded data removed]",
      "text/plain": [
       "<Figure size 432x288 with 1 Axes>"
      ]
     },
     "metadata": {
      "needs_background": "light"
     },
     "output_type": "display_data"
    }
   ],
   "source": [
    "%matplotlib inline\n",
    "import matplotlib.pyplot as plt\n",
    "# Plot performance by epoch\n",
    "def plot_error(history, i):\n",
    "    plt.figure(i)\n",
    "    plt.plot(history.epoch,history.history['loss'])\n",
    "    plt.plot(history.epoch,history.history['val_loss'])\n",
    "    plt.legend(['train', 'val'], loc='best')\n",
    "    plt.show()\n",
    "\n",
    "print('treat error:')\n",
    "plot_error(history_treat,1)\n",
    "print('control error:')\n",
    "plot_error(history_control,2)"
   ]
  },
  {
   "cell_type": "markdown",
   "metadata": {},
   "source": [
    "### Form predicted outcomes for each data point, using both `model_treat` and `model_control`."
   ]
  },
  {
   "cell_type": "code",
   "execution_count": 96,
   "metadata": {},
   "outputs": [
    {
     "name": "stdout",
     "output_type": "stream",
     "text": [
      "[ 24.653225  78.12563   90.11077   54.512432 120.6029    83.39362\n",
      "  81.43206   35.70329   20.06401   23.936123 150.65181   23.152636\n",
      "  63.03038   57.233074  17.434875  33.631794  38.380573  49.46252\n",
      "  97.53043   19.471401  52.468082 120.17521   32.434074 154.85265\n",
      "  10.499752 164.50015   36.102947 158.41399   49.84978   16.292294\n",
      " 123.02252   49.67783   36.284916  69.41007   31.201927 115.64487\n",
      " 100.2317    56.237343 149.22731   44.039562  25.422482  58.551056\n",
      "  28.010712  22.769611 109.41555  129.98898   34.993603  34.522854\n",
      "  51.69118   19.980276  28.909836  40.599915  39.079216  33.935604\n",
      "  66.708664  84.57009   90.16441   43.58523   96.23588   79.29055\n",
      "  35.0667    29.576536 106.95069   13.017183  17.69762   43.13286\n",
      "  54.56288   38.28746   37.89291   34.680523  32.25696   31.944946\n",
      "  28.901064  74.14585   55.692055  39.22057  157.33014  126.06566\n",
      " 124.47445   37.1442    51.638927  22.948494 112.43774   67.29107\n",
      "  56.031322 106.0212    75.80839   63.988964  40.43997   41.873158\n",
      "  80.392586  60.484097  23.545208 147.20409   39.14879  150.50926\n",
      "  65.22378   49.8633    67.29386   54.654575 120.847115 120.15768\n",
      "  47.619175  64.2524    35.606857 108.48023   45.012177  48.155193\n",
      "  27.285599  21.18787  127.81092   64.098     70.7752    30.325184\n",
      "  65.37361   64.59759   31.728073  56.48262  113.21477   85.663414\n",
      "  70.287056  98.78521  142.62833   96.60635   43.521267  85.40897\n",
      "  28.905657  53.900063  87.73167   94.00306 ]\n"
     ]
    }
   ],
   "source": [
    "y_pred_treat = model_treat.predict(X_treat).ravel()\n",
    "y_pred_control = model_control.predict(X_control).ravel()\n",
    "print(y_pred_treat)"
   ]
  },
  {
   "cell_type": "markdown",
   "metadata": {},
   "source": [
    "### Find the 3 individuals that are most and least responsive to treatment and `describe` their covariates."
   ]
  },
  {
   "cell_type": "code",
   "execution_count": 115,
   "metadata": {},
   "outputs": [
    {
     "name": "stdout",
     "output_type": "stream",
     "text": [
      "[ 14  64 109]\n",
      "[17.434875 17.69762  21.18787 ]\n",
      "summary of most responsive individual:  14\n",
      "predicted days in hospital:  17.434875\n",
      "trialid                       222012\n",
      "centreid                   St Mary's\n",
      "status                             0\n",
      "age                               34\n",
      "sex                                0\n",
      "afcarib                            1\n",
      "ocfabth                            0\n",
      "chron1l                      4.78749\n",
      "hos94                            120\n",
      "cprs94                            42\n",
      "das94                            0.4\n",
      "sat94                             25\n",
      "rand        Standard case management\n",
      "hos96                             19\n",
      "cprs96                            18\n",
      "sat96                             18\n",
      "Name: 20, dtype: object\n",
      "summary of most responsive individual:  64\n",
      "predicted days in hospital:  17.69762\n",
      "trialid                        212021\n",
      "centreid                    St Mary's\n",
      "status                              1\n",
      "age                                41\n",
      "sex                                 1\n",
      "afcarib                             1\n",
      "ocfabth                             4\n",
      "chron1l                       4.97673\n",
      "hos94                             300\n",
      "cprs94                             29\n",
      "das94                        0.428571\n",
      "sat94                              17\n",
      "rand        Intensive case management\n",
      "hos96                               0\n",
      "cprs96                             26\n",
      "sat96                              20\n",
      "Name: 126, dtype: object\n",
      "summary of most responsive individual:  109\n",
      "predicted days in hospital:  21.18787\n",
      "trialid                           101\n",
      "centreid                  St George's\n",
      "status                              1\n",
      "age                                59\n",
      "sex                                 0\n",
      "afcarib                             1\n",
      "ocfabth                             2\n",
      "chron1l                        5.8522\n",
      "hos94                              58\n",
      "cprs94                             19\n",
      "das94                        0.666667\n",
      "sat94                              12\n",
      "rand        Intensive case management\n",
      "hos96                               0\n",
      "cprs96                             10\n",
      "sat96                               9\n",
      "Name: 215, dtype: object\n",
      "summary of least responsive individual:  76\n",
      "predicted days in hospital:  157.33014\n",
      "trialid                       212045\n",
      "centreid                   St Mary's\n",
      "status                             1\n",
      "age                               21\n",
      "sex                                1\n",
      "afcarib                            1\n",
      "ocfabth                            4\n",
      "chron1l                      3.17805\n",
      "hos94                             60\n",
      "cprs94                             9\n",
      "das94                          0.125\n",
      "sat94                             23\n",
      "rand        Standard case management\n",
      "hos96                              0\n",
      "cprs96                             7\n",
      "sat96                             18\n",
      "Name: 152, dtype: object\n",
      "summary of least responsive individual:  27\n",
      "predicted days in hospital:  158.41399\n",
      "trialid                       212065\n",
      "centreid                   St Mary's\n",
      "status                             1\n",
      "age                               56\n",
      "sex                                0\n",
      "afcarib                            1\n",
      "ocfabth                            0\n",
      "chron1l                      4.68213\n",
      "hos94                             42\n",
      "cprs94                            20\n",
      "das94                       0.833333\n",
      "sat94                             21\n",
      "rand        Standard case management\n",
      "hos96                            218\n",
      "cprs96                            26\n",
      "sat96                             19\n",
      "Name: 57, dtype: object\n",
      "summary of least responsive individual:  25\n",
      "predicted days in hospital:  164.50015\n",
      "trialid                       222020\n",
      "centreid                   St Mary's\n",
      "status                             0\n",
      "age                               34\n",
      "sex                                0\n",
      "afcarib                            1\n",
      "ocfabth                            1\n",
      "chron1l                      4.56435\n",
      "hos94                             28\n",
      "cprs94                            47\n",
      "das94                        1.16667\n",
      "sat94                             13\n",
      "rand        Standard case management\n",
      "hos96                            129\n",
      "cprs96                            42\n",
      "sat96                          20.25\n",
      "Name: 55, dtype: object\n"
     ]
    }
   ],
   "source": [
    "#TODO\n",
    "least_responsive_indices = np.argpartition(y_pred_treat, -3)[-3:]\n",
    "most_responsive_indices = np.argpartition(y_pred_treat, -3)[0:3]\n",
    "print(most_responsive_indices)\n",
    "print(y_pred_treat[most_responsive_indices])\n",
    "for i in most_responsive_indices:\n",
    "    print('summary of most responsive individual: ', i)\n",
    "    print('predicted days in hospital: ', y_pred_treat[i])\n",
    "    print(df.iloc[i])\n",
    "    \n",
    "for i in least_responsive_indices:\n",
    "    print('summary of least responsive individual: ', i)\n",
    "    print('predicted days in hospital: ', y_pred_treat[i])\n",
    "    print(df.iloc[i])\n"
   ]
  },
  {
   "cell_type": "code",
   "execution_count": null,
   "metadata": {},
   "outputs": [],
   "source": [
    "\"It seems to be the case that patients that already spend a lot of time in the hospital are less likely to stay for long in the future when the treatment is applied.\""
   ]
  },
  {
   "cell_type": "code",
   "execution_count": null,
   "metadata": {},
   "outputs": [],
   "source": [
    "# Bonus: explore what features matter for the predicted difference between control and treatment"
   ]
  },
  {
   "cell_type": "markdown",
   "metadata": {},
   "source": [
    "\n"
   ]
  }
 ],
 "metadata": {
  "kernelspec": {
   "display_name": "Python 3",
   "language": "python",
   "name": "python3"
  },
  "language_info": {
   "codemirror_mode": {
    "name": "ipython",
    "version": 3
   },
   "file_extension": ".py",
   "mimetype": "text/x-python",
   "name": "python",
   "nbconvert_exporter": "python",
   "pygments_lexer": "ipython3",
   "version": "3.7.6"
  }
 },
 "nbformat": 4,
 "nbformat_minor": 4
}
