{
 "cells": [
  {
   "cell_type": "markdown",
   "metadata": {},
   "source": [
    "# HW08 (due November 17th)"
   ]
  },
  {
   "cell_type": "markdown",
   "metadata": {},
   "source": [
    "## Load Data"
   ]
  },
  {
   "cell_type": "code",
   "execution_count": 1,
   "metadata": {},
   "outputs": [],
   "source": [
    "use http://www.stata.com/data/jwooldridge/eacsap/card.dta, clear"
   ]
  },
  {
   "cell_type": "code",
   "execution_count": 2,
   "metadata": {},
   "outputs": [
    {
     "name": "stdout",
     "output_type": "stream",
     "text": [
      "\n",
      "Contains data from http://www.stata.com/data/jwooldridge/eacsap/card.dta\n",
      "  obs:         3,010                          \n",
      " vars:            34                          2 Sep 1996 15:51\n",
      "--------------------------------------------------------------------------------\n",
      "              storage   display    value\n",
      "variable name   type    format     label      variable label\n",
      "--------------------------------------------------------------------------------\n",
      "id              int     %9.0g                 \n",
      "nearc2          byte    %9.0g                 =1 if near 2 yr college, 1966\n",
      "nearc4          byte    %9.0g                 =1 if near 4 yr college, 1966\n",
      "educ            byte    %9.0g                 years of schooling, 1976\n",
      "age             byte    %9.0g                 in years\n",
      "fatheduc        byte    %9.0g                 father's schooling\n",
      "motheduc        byte    %9.0g                 mother's schooling\n",
      "weight          float   %9.0g                 NLS sampling weight, 1976\n",
      "momdad14        byte    %9.0g                 =1 if live with mom, dad at 14\n",
      "sinmom14        byte    %9.0g                 =1 if with single mom at 14\n",
      "step14          byte    %9.0g                 =1 if with step parent at 14\n",
      "reg661          byte    %9.0g                 regional dummy, 1966\n",
      "reg662          byte    %9.0g                 \n",
      "reg663          byte    %9.0g                 \n",
      "reg664          byte    %9.0g                 \n",
      "reg665          byte    %9.0g                 \n",
      "reg666          byte    %9.0g                 \n",
      "reg667          byte    %9.0g                 \n",
      "reg668          byte    %9.0g                 \n",
      "reg669          byte    %9.0g                 \n",
      "south66         byte    %9.0g                 =1 if in south in 1966\n",
      "black           byte    %9.0g                 =1 if black\n",
      "smsa            byte    %9.0g                 =1 in in SMSA, 1976\n",
      "south           byte    %9.0g                 =1 if in south, 1976\n",
      "smsa66          byte    %9.0g                 =1 if in SMSA, 1966\n",
      "wage            int     %9.0g                 hourly wage in cents, 1976\n",
      "enroll          byte    %9.0g                 =1 if enrolled in school, 1976\n",
      "kww             byte    %9.0g                 knowledge world of work score\n",
      "iq              int     %9.0g                 IQ score\n",
      "married         byte    %9.0g                 =1 if married, 1976\n",
      "libcrd14        byte    %9.0g                 =1 if lib. card in home at 14\n",
      "exper           byte    %9.0g                 age - educ - 6\n",
      "lwage           float   %9.0g                 log(wage)\n",
      "expersq         int     %9.0g                 exper^2\n",
      "--------------------------------------------------------------------------------\n",
      "Sorted by: \n"
     ]
    }
   ],
   "source": [
    "de"
   ]
  },
  {
   "cell_type": "markdown",
   "metadata": {},
   "source": [
    "## Summary Statistics and OLS"
   ]
  },
  {
   "cell_type": "code",
   "execution_count": null,
   "metadata": {},
   "outputs": [],
   "source": [
    "// Summarize the dataset\n",
    "// TODO"
   ]
  },
  {
   "cell_type": "code",
   "execution_count": null,
   "metadata": {},
   "outputs": [],
   "source": [
    "// plot log wages against education\n",
    "// TODO"
   ]
  },
  {
   "cell_type": "markdown",
   "metadata": {},
   "source": [
    "Regress log wages (lwage) against education and include the controls that you think may decrease the omitted variable bias, use robust standard errors. What else may bias the estimate?"
   ]
  },
  {
   "cell_type": "code",
   "execution_count": null,
   "metadata": {},
   "outputs": [],
   "source": [
    "// TODO"
   ]
  },
  {
   "cell_type": "markdown",
   "metadata": {},
   "source": [
    "### 2SLS"
   ]
  },
  {
   "cell_type": "code",
   "execution_count": null,
   "metadata": {},
   "outputs": [],
   "source": [
    "// plot log wages against nearc4 TODO"
   ]
  },
  {
   "cell_type": "code",
   "execution_count": null,
   "metadata": {},
   "outputs": [],
   "source": [
    "// plot education against nearc4 TODO"
   ]
  },
  {
   "cell_type": "markdown",
   "metadata": {},
   "source": [
    "If you run an iv regression of log wages on education, using college proximity as an instrument for education, what would you expect the sign of the coefficient on education to be? Why? "
   ]
  },
  {
   "cell_type": "code",
   "execution_count": null,
   "metadata": {},
   "outputs": [],
   "source": [
    "// run a regression of education on nearc4, adding the controls you selected before and using robust standard errors"
   ]
  },
  {
   "cell_type": "code",
   "execution_count": null,
   "metadata": {},
   "outputs": [],
   "source": [
    "// predict education from the previous regression "
   ]
  },
  {
   "cell_type": "code",
   "execution_count": null,
   "metadata": {},
   "outputs": [],
   "source": [
    "// run a regression of log wages on education and controls using robust standard errors"
   ]
  },
  {
   "cell_type": "markdown",
   "metadata": {},
   "source": [
    "### Instrumental Variable Analysis"
   ]
  },
  {
   "cell_type": "code",
   "execution_count": null,
   "metadata": {},
   "outputs": [],
   "source": [
    "// use ivreghdfe to run the regression of log wages on education, using college proximity as an instrument for education\n",
    "// add controls, no fixed effects and use robust standard errors\n",
    "\n",
    "ssc install ivreghdfe\n",
    "\n",
    "// TODO"
   ]
  },
  {
   "cell_type": "markdown",
   "metadata": {},
   "source": [
    "Is the instrument weak? "
   ]
  },
  {
   "cell_type": "markdown",
   "metadata": {},
   "source": [
    "Compare the estimates found here and at the previous point. Are these equal or different? Why? "
   ]
  }
 ],
 "metadata": {
  "kernelspec": {
   "display_name": "Stata",
   "language": "stata",
   "name": "stata"
  },
  "language_info": {
   "codemirror_mode": "stata",
   "file_extension": ".do",
   "mimetype": "text/x-stata",
   "name": "stata",
   "version": "15.1"
  }
 },
 "nbformat": 4,
 "nbformat_minor": 4
}
