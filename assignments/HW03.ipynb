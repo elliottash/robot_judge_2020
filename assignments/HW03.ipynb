{
 "cells": [
  {
   "cell_type": "markdown",
   "metadata": {},
   "source": [
    "# HW03 (due October 12th)"
   ]
  },
  {
   "cell_type": "markdown",
   "metadata": {},
   "source": [
    "# Load Data"
   ]
  },
  {
   "cell_type": "code",
   "execution_count": null,
   "metadata": {},
   "outputs": [],
   "source": [
    "// Load the NLSY dataset\n",
    "webuse nlswork"
   ]
  },
  {
   "cell_type": "markdown",
   "metadata": {},
   "source": [
    "#  Summary statistics"
   ]
  },
  {
   "cell_type": "code",
   "execution_count": null,
   "metadata": {},
   "outputs": [],
   "source": [
    "// Summarize the dataset\n",
    "summarize"
   ]
  },
  {
   "cell_type": "code",
   "execution_count": null,
   "metadata": {},
   "outputs": [],
   "source": [
    "// tabulate college and union status\n",
    "tab collgrad\n",
    "tab union"
   ]
  },
  {
   "cell_type": "code",
   "execution_count": null,
   "metadata": {},
   "outputs": [],
   "source": [
    "// generate a variable for log hours worked\n",
    "gen log_work_hours = log(hours)"
   ]
  },
  {
   "cell_type": "code",
   "execution_count": null,
   "metadata": {},
   "outputs": [],
   "source": [
    "// plot log hours against year separately for union and non-union\n",
    "gen union_log_hours = log_work_hours if union == 1\n",
    "gen non_union_log_hours = log_work_hours if union == 0\n",
    "plot union_log_hours year\n",
    "plot non_union_log_hours year\n",
    "\n"
   ]
  },
  {
   "cell_type": "markdown",
   "metadata": {},
   "source": [
    "# Regression: Effect of union status on hours worked"
   ]
  },
  {
   "cell_type": "code",
   "execution_count": null,
   "metadata": {},
   "outputs": [],
   "source": [
    "// Regress hours worked against union status\n",
    "regress hours union"
   ]
  },
  {
   "cell_type": "code",
   "execution_count": null,
   "metadata": {},
   "outputs": [],
   "source": [
    "// What is the identification assumption for the coefficient on union to be causal?\n",
    "\n",
    "\"\"\"The underlying identification assumption is that the only variable that influences the work hours of a certain persion is whether that person is in a union or not. This is very unlikely to be true, as can be seen in the plots above.\"\"\""
   ]
  },
  {
   "cell_type": "code",
   "execution_count": null,
   "metadata": {},
   "outputs": [],
   "source": [
    "// Regress hours worked against union status with individual (idcode) and year fixed effects\n",
    "ssc install reghdfe\n",
    "ssc install ftools\n",
    "reghdfe hours union, absorb(idcode year)\n",
    "\n",
    "// What is the identification assumption for the coefficient on union to be causal?\n",
    "\n",
    "\"\"\"The assumption is similar to before, but instead of regressing over all datapoints, we now take differences between individuals and general trends between the different years into account. This should help to eliminate the influence of general larger trends on our regression like for example if the general membership in unions declined while the average work hours increased over time. \"\"\"\n"
   ]
  },
  {
   "cell_type": "code",
   "execution_count": null,
   "metadata": {},
   "outputs": [],
   "source": [
    "// Now cluster standard errors. What level should you cluster at and why?\n",
    "\n",
    "reghdfe hours union, absorb(idcode year) vce(cluster year)\n",
    "\n",
    "\"\"\"only clustering the year makes sense of the two variables year and idcode. The years are clustered into 12 categories. The order of the idcodes is not assumed to hold valuable information. Therefore, it does not make sense to cluster by them. \"\"\"\n",
    "\n",
    "// What do you notice about the coefficients?\n",
    "\n",
    "\"\"\"The standart error decrases and the t values increase resulting in a more significant result.\"\"\"\n"
   ]
  },
  {
   "cell_type": "code",
   "execution_count": null,
   "metadata": {},
   "outputs": [],
   "source": [
    "// Now add fixed effects for occupation code\n",
    "\n",
    "reghdfe hours union, absorb(idcode year occ_code)\n",
    "\n",
    "// In terms of causal inference, why is adding occupation code \n",
    "// as a control probably not a good idea?\n",
    "\n",
    "//The union status has most likely both an influence on workhours and occupation code. It would therefore be a collider. It can also be seen, that the t value on union is slightly lower. \n"
   ]
  },
  {
   "cell_type": "code",
   "execution_count": null,
   "metadata": {},
   "outputs": [],
   "source": [
    "// What are \"good controls\" in the dataset in terms of being exogenous to union status?\n",
    "\n",
    "\"\"\"I guess c_city could have something to do with the city someone lives in. The city someone lives in could introduce bias since local policies affect work hours and union memberships. Therefore i think this would be a  good control. \"\"\"\n",
    "// add them to the regression, interacted with year, using this syntax:\n",
    "// absorb( ... year##c.(var1 var2 ...))\n",
    "// how do these change your estimates?\n"
   ]
  },
  {
   "cell_type": "markdown",
   "metadata": {},
   "source": [
    "# Short Essay: Correlation/Causation"
   ]
  },
  {
   "cell_type": "markdown",
   "metadata": {},
   "source": [
    "**Find a news article mistaking correlation for causation. Link to the article and write a short paragraph explaining the mistake.**"
   ]
  },
  {
   "cell_type": "markdown",
   "metadata": {},
   "source": [
    "[type your comments here, or attach as separate document.]"
   ]
  },
  {
   "cell_type": "code",
   "execution_count": null,
   "metadata": {},
   "outputs": [],
   "source": [
    "# https://neurosciencenews.com/anxiety-weight-women-8607/\n",
    "\n",
    "\"\"\"The news article above suggests, that that the amount of abdominal fat a woman has could increase her chances of developing anxiety. Although there seemed to be a study which was able to show a correlation, the effect could go both ways around here. Somebody who is preoccupied struggeling with anxiety, might have less time and energy to lead an active and healthly life and might even be more likely, to compensate bad feelings with food (comfort eating).\"\"\""
   ]
  },
  {
   "cell_type": "code",
   "execution_count": null,
   "metadata": {},
   "outputs": [],
   "source": []
  }
 ],
 "metadata": {
  "kernelspec": {
   "display_name": "Stata",
   "language": "stata",
   "name": "stata"
  },
  "language_info": {
   "name": ""
  }
 },
 "nbformat": 4,
 "nbformat_minor": 4
}