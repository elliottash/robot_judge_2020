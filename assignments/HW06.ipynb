{
 "cells": [
  {
   "cell_type": "markdown",
   "metadata": {},
   "source": [
    "# HW06: Python \n",
    "(due November 3rd)"
   ]
  },
  {
   "cell_type": "markdown",
   "metadata": {},
   "source": [
    "# Heterogeneous Treatment Effects with Keras MLP"
   ]
  },
  {
   "cell_type": "code",
   "execution_count": 2,
   "metadata": {},
   "outputs": [],
   "source": [
    "import pandas as pd\n",
    "from tensorflow import keras"
   ]
  },
  {
   "cell_type": "markdown",
   "metadata": {},
   "source": [
    "### Dataset on RCT study of case management on mental health outcomes.\n"
   ]
  },
  {
   "cell_type": "code",
   "execution_count": 3,
   "metadata": {},
   "outputs": [
    {
     "data": {
      "text/plain": [
       "{'trialid': 'Trial ID',\n",
       " 'centreid': 'Trial centre',\n",
       " 'status': 'Patient status at baseline',\n",
       " 'age': 'Age in years at baseline',\n",
       " 'sex': 'Sex',\n",
       " 'afcarib': 'Ethnic group',\n",
       " 'ocfabth': \"Father's social class at birth\",\n",
       " 'chron1l': 'Months since onset of psychosis, logged',\n",
       " 'hos94': 'Days in hospital for psychiatric reasons: 2 years before baseline',\n",
       " 'cprs94': 'Psychopathology at baseline (CPRS)',\n",
       " 'das94': 'Disability at baseline (DAS)',\n",
       " 'sat94': '(Dis)satisfaction with services at baseline',\n",
       " 'rand': 'Randomised group',\n",
       " 'hos96': 'Days in hospital for psychiatric reasons: 2 years after baseline',\n",
       " 'cprs96': 'Psychopathology at 2 years (CPRS)',\n",
       " 'sat96': '(Dis)satisfaction with services at 2 years'}"
      ]
     },
     "execution_count": 3,
     "metadata": {},
     "output_type": "execute_result"
    }
   ],
   "source": [
    "# show variable labels\n",
    "pd.read_stata('http://www.homepages.ucl.ac.uk/~rmjwiww/stata/missing/uk500.dta', iterator=True).variable_labels()"
   ]
  },
  {
   "cell_type": "code",
   "execution_count": 7,
   "metadata": {},
   "outputs": [
    {
     "name": "stdout",
     "output_type": "stream",
     "text": [
      "<class 'pandas.core.frame.DataFrame'>\n",
      "Int64Index: 246 entries, 1 to 497\n",
      "Data columns (total 16 columns):\n",
      " #   Column    Non-Null Count  Dtype   \n",
      "---  ------    --------------  -----   \n",
      " 0   trialid   246 non-null    float64 \n",
      " 1   centreid  246 non-null    category\n",
      " 2   status    246 non-null    category\n",
      " 3   age       246 non-null    float64 \n",
      " 4   sex       246 non-null    category\n",
      " 5   afcarib   246 non-null    category\n",
      " 6   ocfabth   246 non-null    category\n",
      " 7   chron1l   246 non-null    float32 \n",
      " 8   hos94     246 non-null    float64 \n",
      " 9   cprs94    246 non-null    float64 \n",
      " 10  das94     246 non-null    float64 \n",
      " 11  sat94     246 non-null    float64 \n",
      " 12  rand      246 non-null    category\n",
      " 13  hos96     246 non-null    float64 \n",
      " 14  cprs96    246 non-null    float64 \n",
      " 15  sat96     246 non-null    float64 \n",
      "dtypes: category(6), float32(1), float64(9)\n",
      "memory usage: 22.4 KB\n"
     ]
    }
   ],
   "source": [
    "# Load data \n",
    "df = pd.read_stata('http://www.homepages.ucl.ac.uk/~rmjwiww/stata/missing/uk500.dta')\n",
    "df = df.dropna()\n",
    "df.info()"
   ]
  },
  {
   "cell_type": "code",
   "execution_count": 8,
   "metadata": {},
   "outputs": [
    {
     "name": "stdout",
     "output_type": "stream",
     "text": [
      "<class 'pandas.core.frame.DataFrame'>\n",
      "Int64Index: 246 entries, 1 to 497\n",
      "Data columns (total 16 columns):\n",
      " #   Column    Non-Null Count  Dtype   \n",
      "---  ------    --------------  -----   \n",
      " 0   trialid   246 non-null    float64 \n",
      " 1   centreid  246 non-null    category\n",
      " 2   status    246 non-null    float32 \n",
      " 3   age       246 non-null    float32 \n",
      " 4   sex       246 non-null    float32 \n",
      " 5   afcarib   246 non-null    float32 \n",
      " 6   ocfabth   246 non-null    float32 \n",
      " 7   chron1l   246 non-null    float32 \n",
      " 8   hos94     246 non-null    float32 \n",
      " 9   cprs94    246 non-null    float32 \n",
      " 10  das94     246 non-null    float32 \n",
      " 11  sat94     246 non-null    float32 \n",
      " 12  rand      246 non-null    category\n",
      " 13  hos96     246 non-null    float64 \n",
      " 14  cprs96    246 non-null    float64 \n",
      " 15  sat96     246 non-null    float64 \n",
      "dtypes: category(2), float32(10), float64(4)\n",
      "memory usage: 20.0 KB\n"
     ]
    }
   ],
   "source": [
    "#Encoding Categorical covariates and preparing the data for tensorflow\n",
    "covariates = ['status', 'sex', 'sat94', 'ocfabth', 'hos94', 'das94', 'cprs94', 'age', 'afcarib']\n",
    "covariates_cat = ['status', 'sex', 'ocfabth', 'afcarib']\n",
    "\n",
    "from sklearn.preprocessing import OrdinalEncoder\n",
    "encoder = OrdinalEncoder()\n",
    "df[covariates_cat] = encoder.fit_transform(df[covariates_cat])\n",
    "df[covariates] = df[covariates].astype('float32')\n",
    "df.info()"
   ]
  },
  {
   "cell_type": "code",
   "execution_count": 9,
   "metadata": {},
   "outputs": [
    {
     "data": {
      "text/html": [
       "<div>\n",
       "<style scoped>\n",
       "    .dataframe tbody tr th:only-of-type {\n",
       "        vertical-align: middle;\n",
       "    }\n",
       "\n",
       "    .dataframe tbody tr th {\n",
       "        vertical-align: top;\n",
       "    }\n",
       "\n",
       "    .dataframe thead th {\n",
       "        text-align: right;\n",
       "    }\n",
       "</style>\n",
       "<table border=\"1\" class=\"dataframe\">\n",
       "  <thead>\n",
       "    <tr style=\"text-align: right;\">\n",
       "      <th></th>\n",
       "      <th>sat96</th>\n",
       "      <th>hos96</th>\n",
       "      <th>cprs96</th>\n",
       "    </tr>\n",
       "  </thead>\n",
       "  <tbody>\n",
       "    <tr>\n",
       "      <th>count</th>\n",
       "      <td>246.000000</td>\n",
       "      <td>246.000000</td>\n",
       "      <td>246.000000</td>\n",
       "    </tr>\n",
       "    <tr>\n",
       "      <th>mean</th>\n",
       "      <td>17.271341</td>\n",
       "      <td>65.500000</td>\n",
       "      <td>17.790587</td>\n",
       "    </tr>\n",
       "    <tr>\n",
       "      <th>std</th>\n",
       "      <td>4.723009</td>\n",
       "      <td>104.046722</td>\n",
       "      <td>14.090911</td>\n",
       "    </tr>\n",
       "    <tr>\n",
       "      <th>min</th>\n",
       "      <td>9.000000</td>\n",
       "      <td>0.000000</td>\n",
       "      <td>0.000000</td>\n",
       "    </tr>\n",
       "    <tr>\n",
       "      <th>25%</th>\n",
       "      <td>14.000000</td>\n",
       "      <td>0.000000</td>\n",
       "      <td>7.000000</td>\n",
       "    </tr>\n",
       "    <tr>\n",
       "      <th>50%</th>\n",
       "      <td>17.000000</td>\n",
       "      <td>15.000000</td>\n",
       "      <td>15.000000</td>\n",
       "    </tr>\n",
       "    <tr>\n",
       "      <th>75%</th>\n",
       "      <td>20.187500</td>\n",
       "      <td>93.500000</td>\n",
       "      <td>26.000000</td>\n",
       "    </tr>\n",
       "    <tr>\n",
       "      <th>max</th>\n",
       "      <td>32.000000</td>\n",
       "      <td>692.000000</td>\n",
       "      <td>71.000000</td>\n",
       "    </tr>\n",
       "  </tbody>\n",
       "</table>\n",
       "</div>"
      ],
      "text/plain": [
       "            sat96       hos96      cprs96\n",
       "count  246.000000  246.000000  246.000000\n",
       "mean    17.271341   65.500000   17.790587\n",
       "std      4.723009  104.046722   14.090911\n",
       "min      9.000000    0.000000    0.000000\n",
       "25%     14.000000    0.000000    7.000000\n",
       "50%     17.000000   15.000000   15.000000\n",
       "75%     20.187500   93.500000   26.000000\n",
       "max     32.000000  692.000000   71.000000"
      ]
     },
     "execution_count": 9,
     "metadata": {},
     "output_type": "execute_result"
    }
   ],
   "source": [
    "# the post-treatment outcomes to analyze\n",
    "outcomes = ['sat96', 'hos96', 'cprs96']\n",
    "df[outcomes].describe()"
   ]
  },
  {
   "cell_type": "code",
   "execution_count": 10,
   "metadata": {},
   "outputs": [
    {
     "data": {
      "text/plain": [
       "Intensive case management    130\n",
       "Standard case management     116\n",
       "Name: rand, dtype: int64"
      ]
     },
     "execution_count": 10,
     "metadata": {},
     "output_type": "execute_result"
    }
   ],
   "source": [
    "# variable describing treatment status\n",
    "treatvar = 'rand'\n",
    "df[treatvar].value_counts()"
   ]
  },
  {
   "cell_type": "code",
   "execution_count": 11,
   "metadata": {},
   "outputs": [
    {
     "data": {
      "text/html": [
       "<div>\n",
       "<style scoped>\n",
       "    .dataframe tbody tr th:only-of-type {\n",
       "        vertical-align: middle;\n",
       "    }\n",
       "\n",
       "    .dataframe tbody tr th {\n",
       "        vertical-align: top;\n",
       "    }\n",
       "\n",
       "    .dataframe thead th {\n",
       "        text-align: right;\n",
       "    }\n",
       "</style>\n",
       "<table border=\"1\" class=\"dataframe\">\n",
       "  <thead>\n",
       "    <tr style=\"text-align: right;\">\n",
       "      <th></th>\n",
       "      <th>status</th>\n",
       "      <th>sex</th>\n",
       "      <th>sat94</th>\n",
       "      <th>ocfabth</th>\n",
       "      <th>hos94</th>\n",
       "      <th>das94</th>\n",
       "      <th>cprs94</th>\n",
       "      <th>age</th>\n",
       "      <th>afcarib</th>\n",
       "    </tr>\n",
       "  </thead>\n",
       "  <tbody>\n",
       "    <tr>\n",
       "      <th>count</th>\n",
       "      <td>246.000000</td>\n",
       "      <td>246.000000</td>\n",
       "      <td>246.000000</td>\n",
       "      <td>246.000000</td>\n",
       "      <td>246.000000</td>\n",
       "      <td>246.000000</td>\n",
       "      <td>246.000000</td>\n",
       "      <td>246.000000</td>\n",
       "      <td>246.000000</td>\n",
       "    </tr>\n",
       "    <tr>\n",
       "      <th>mean</th>\n",
       "      <td>0.605691</td>\n",
       "      <td>0.544715</td>\n",
       "      <td>18.837906</td>\n",
       "      <td>2.715447</td>\n",
       "      <td>94.776421</td>\n",
       "      <td>1.072794</td>\n",
       "      <td>19.362692</td>\n",
       "      <td>38.593494</td>\n",
       "      <td>0.723577</td>\n",
       "    </tr>\n",
       "    <tr>\n",
       "      <th>std</th>\n",
       "      <td>0.489698</td>\n",
       "      <td>0.499012</td>\n",
       "      <td>4.907598</td>\n",
       "      <td>1.188518</td>\n",
       "      <td>94.375053</td>\n",
       "      <td>0.820939</td>\n",
       "      <td>13.350190</td>\n",
       "      <td>11.050043</td>\n",
       "      <td>0.448140</td>\n",
       "    </tr>\n",
       "    <tr>\n",
       "      <th>min</th>\n",
       "      <td>0.000000</td>\n",
       "      <td>0.000000</td>\n",
       "      <td>9.000000</td>\n",
       "      <td>0.000000</td>\n",
       "      <td>1.000000</td>\n",
       "      <td>0.000000</td>\n",
       "      <td>0.000000</td>\n",
       "      <td>20.000000</td>\n",
       "      <td>0.000000</td>\n",
       "    </tr>\n",
       "    <tr>\n",
       "      <th>25%</th>\n",
       "      <td>0.000000</td>\n",
       "      <td>0.000000</td>\n",
       "      <td>15.750000</td>\n",
       "      <td>2.000000</td>\n",
       "      <td>33.250000</td>\n",
       "      <td>0.428571</td>\n",
       "      <td>9.000000</td>\n",
       "      <td>30.000000</td>\n",
       "      <td>0.000000</td>\n",
       "    </tr>\n",
       "    <tr>\n",
       "      <th>50%</th>\n",
       "      <td>1.000000</td>\n",
       "      <td>1.000000</td>\n",
       "      <td>19.000000</td>\n",
       "      <td>3.000000</td>\n",
       "      <td>63.000000</td>\n",
       "      <td>1.000000</td>\n",
       "      <td>17.000000</td>\n",
       "      <td>36.000000</td>\n",
       "      <td>1.000000</td>\n",
       "    </tr>\n",
       "    <tr>\n",
       "      <th>75%</th>\n",
       "      <td>1.000000</td>\n",
       "      <td>1.000000</td>\n",
       "      <td>22.000000</td>\n",
       "      <td>4.000000</td>\n",
       "      <td>126.000000</td>\n",
       "      <td>1.500000</td>\n",
       "      <td>27.000000</td>\n",
       "      <td>47.000000</td>\n",
       "      <td>1.000000</td>\n",
       "    </tr>\n",
       "    <tr>\n",
       "      <th>max</th>\n",
       "      <td>1.000000</td>\n",
       "      <td>1.000000</td>\n",
       "      <td>36.000000</td>\n",
       "      <td>5.000000</td>\n",
       "      <td>730.000000</td>\n",
       "      <td>4.714283</td>\n",
       "      <td>67.000000</td>\n",
       "      <td>65.000000</td>\n",
       "      <td>1.000000</td>\n",
       "    </tr>\n",
       "  </tbody>\n",
       "</table>\n",
       "</div>"
      ],
      "text/plain": [
       "           status         sex       sat94     ocfabth       hos94       das94  \\\n",
       "count  246.000000  246.000000  246.000000  246.000000  246.000000  246.000000   \n",
       "mean     0.605691    0.544715   18.837906    2.715447   94.776421    1.072794   \n",
       "std      0.489698    0.499012    4.907598    1.188518   94.375053    0.820939   \n",
       "min      0.000000    0.000000    9.000000    0.000000    1.000000    0.000000   \n",
       "25%      0.000000    0.000000   15.750000    2.000000   33.250000    0.428571   \n",
       "50%      1.000000    1.000000   19.000000    3.000000   63.000000    1.000000   \n",
       "75%      1.000000    1.000000   22.000000    4.000000  126.000000    1.500000   \n",
       "max      1.000000    1.000000   36.000000    5.000000  730.000000    4.714283   \n",
       "\n",
       "           cprs94         age     afcarib  \n",
       "count  246.000000  246.000000  246.000000  \n",
       "mean    19.362692   38.593494    0.723577  \n",
       "std     13.350190   11.050043    0.448140  \n",
       "min      0.000000   20.000000    0.000000  \n",
       "25%      9.000000   30.000000    0.000000  \n",
       "50%     17.000000   36.000000    1.000000  \n",
       "75%     27.000000   47.000000    1.000000  \n",
       "max     67.000000   65.000000    1.000000  "
      ]
     },
     "execution_count": 11,
     "metadata": {},
     "output_type": "execute_result"
    }
   ],
   "source": [
    "# covariates for predicting the outcome conditional on treatment\n",
    "df[covariates].describe()"
   ]
  },
  {
   "cell_type": "code",
   "execution_count": null,
   "metadata": {},
   "outputs": [],
   "source": [
    "# Subset the dataset by treatment (intensive) and control (standard)\n",
    "df_treat = #TODO\n",
    "df_control = #TODO"
   ]
  },
  {
   "cell_type": "markdown",
   "metadata": {},
   "source": [
    "### Choose one of the three outcomes to analyze. Build two FFNN / MLP models to predict the outcome based on the covariates. The first model should use the treatment dataset, the second model should use the control dataset."
   ]
  },
  {
   "cell_type": "code",
   "execution_count": null,
   "metadata": {},
   "outputs": [],
   "source": [
    "# build MLP models with at least 2 hidden layers, ReLU activation, batch normalization, dropout\n",
    "model_treat = keras.models.Sequential()\n",
    "model_control = keras.models.Sequential()\n",
    "#TODO"
   ]
  },
  {
   "cell_type": "code",
   "execution_count": 19,
   "metadata": {},
   "outputs": [],
   "source": [
    "# compile the models\n",
    "#TODO"
   ]
  },
  {
   "cell_type": "code",
   "execution_count": null,
   "metadata": {},
   "outputs": [],
   "source": [
    "# fit separate models on the treatment dataset and control dataset\n",
    "# use early stopping\n",
    "#TODO"
   ]
  },
  {
   "cell_type": "markdown",
   "metadata": {},
   "source": [
    "### Form predicted outcomes for each data point, using both `model_treat` and `model_control`."
   ]
  },
  {
   "cell_type": "code",
   "execution_count": null,
   "metadata": {},
   "outputs": [],
   "source": [
    "y_pred_treat = #TODO\n",
    "y_pred_control = #TODO"
   ]
  },
  {
   "cell_type": "markdown",
   "metadata": {},
   "source": [
    "### Find the 3 individuals that are most and least responsive to treatment and `describe` their covariates."
   ]
  },
  {
   "cell_type": "code",
   "execution_count": null,
   "metadata": {},
   "outputs": [],
   "source": [
    "#TODO"
   ]
  },
  {
   "cell_type": "code",
   "execution_count": null,
   "metadata": {},
   "outputs": [],
   "source": [
    "# Bonus: explore what features matter for the predicted difference between control and treatment"
   ]
  },
  {
   "cell_type": "markdown",
   "metadata": {},
   "source": [
    "\n"
   ]
  }
 ],
 "metadata": {
  "kernelspec": {
   "display_name": "Python 3",
   "language": "python",
   "name": "python3"
  },
  "language_info": {
   "codemirror_mode": {
    "name": "ipython",
    "version": 3
   },
   "file_extension": ".py",
   "mimetype": "text/x-python",
   "name": "python",
   "nbconvert_exporter": "python",
   "pygments_lexer": "ipython3",
   "version": "3.8.3"
  }
 },
 "nbformat": 4,
 "nbformat_minor": 4
}
