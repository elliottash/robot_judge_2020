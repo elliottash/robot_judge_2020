{
 "cells": [
  {
   "cell_type": "markdown",
   "metadata": {},
   "source": [
    "# Week 3 - Linear Models and Research Design (Stata)"
   ]
  },
  {
   "cell_type": "markdown",
   "metadata": {},
   "source": [
    "Based on this material:\n",
    "\n",
    "https://dss.princeton.edu/training/Regression101.pdf\n",
    "https://dss.princeton.edu/training/Panel101.pdf"
   ]
  },
  {
   "cell_type": "markdown",
   "metadata": {},
   "source": [
    "# Introduction to Regression"
   ]
  },
  {
   "cell_type": "code",
   "execution_count": null,
   "metadata": {},
   "outputs": [],
   "source": [
    "* we will be doing all regressions with reghdfe\n",
    "* http://scorreia.com/software/reghdfe/quickstart.html\n",
    "\n",
    "* Install ftools (remove program if it existed previously)\n",
    "cap ado uninstall moresyntax\n",
    "cap ado uninstall ftools\n",
    "net install ftools, from(\"https://raw.githubusercontent.com/sergiocorreia/ftools/master/src/\")\n",
    "\n",
    "* Install reghdfe 5.x\n",
    "cap ado uninstall reghdfe\n",
    "net install reghdfe, from(\"https://raw.githubusercontent.com/sergiocorreia/reghdfe/master/src/\")\n",
    "\n",
    "* Install moremata (sometimes used by ftools but not needed for reghdfe)\n",
    "cap ssc install moremata\n",
    "\n",
    "ftools, compile\n",
    "reghdfe, compile\n",
    "\n",
    "cap ado uninstall ivreg2hdfe\n",
    "cap ado uninstall ivreghdfe\n",
    "cap ssc install ivreg2 // Install ivreg2, the core package\n",
    "net install ivreghdfe, from(https://raw.githubusercontent.com/sergiocorreia/ivreghdfe/master/src/)"
   ]
  },
  {
   "cell_type": "code",
   "execution_count": null,
   "metadata": {},
   "outputs": [],
   "source": [
    "reghdfe, version"
   ]
  },
  {
   "cell_type": "code",
   "execution_count": null,
   "metadata": {},
   "outputs": [],
   "source": [
    "grstyle init\n",
    "grstyle set plain, horizontal grid"
   ]
  },
  {
   "cell_type": "code",
   "execution_count": null,
   "metadata": {},
   "outputs": [],
   "source": [
    "* Load example dataset\n",
    "\n",
    "use https://dss.princeton.edu/training/states.dta, clear"
   ]
  },
  {
   "cell_type": "code",
   "execution_count": null,
   "metadata": {},
   "outputs": [],
   "source": [
    "describe"
   ]
  },
  {
   "cell_type": "code",
   "execution_count": null,
   "metadata": {},
   "outputs": [],
   "source": [
    "su"
   ]
  },
  {
   "cell_type": "code",
   "execution_count": null,
   "metadata": {},
   "outputs": [],
   "source": [
    "* stata default regression command\n",
    "reg csat expense"
   ]
  },
  {
   "cell_type": "code",
   "execution_count": null,
   "metadata": {},
   "outputs": [],
   "source": [
    "* regress SAT on student expenditures, no FE's absorbed, robust standard errors\n",
    "\n",
    "reghdfe csat expense, noabsorb vce(robust)"
   ]
  },
  {
   "cell_type": "code",
   "execution_count": null,
   "metadata": {},
   "outputs": [],
   "source": [
    "* add more variables\n",
    "\n",
    "reghdfe csat expense percent income high college, noabsorb vce(robust)"
   ]
  },
  {
   "cell_type": "code",
   "execution_count": null,
   "metadata": {},
   "outputs": [],
   "source": [
    "* load example dataset\n",
    "\n",
    "sysuse nlsw88.dta"
   ]
  },
  {
   "cell_type": "code",
   "execution_count": null,
   "metadata": {},
   "outputs": [],
   "source": [
    "describe"
   ]
  },
  {
   "cell_type": "code",
   "execution_count": null,
   "metadata": {},
   "outputs": [],
   "source": [
    "tab industry"
   ]
  },
  {
   "cell_type": "code",
   "execution_count": null,
   "metadata": {},
   "outputs": [],
   "source": [
    "tab occupation"
   ]
  },
  {
   "cell_type": "code",
   "execution_count": null,
   "metadata": {},
   "outputs": [],
   "source": [
    "* regression with industry dummy variables\n",
    "\n",
    "reghdfe wage hours i.industry, noabsorb vce(robust) "
   ]
  },
  {
   "cell_type": "code",
   "execution_count": null,
   "metadata": {},
   "outputs": [],
   "source": [
    "* with absorb syntax, and clustering by industry.\n",
    "* \"nocons\" means dont report the intercept -- we wont need it with absorb\n",
    "\n",
    "reghdfe wage hours , absorb(industry) cluster(industry) nocons"
   ]
  },
  {
   "cell_type": "code",
   "execution_count": null,
   "metadata": {},
   "outputs": [],
   "source": [
    "* two-way FE's and two-way clustering:\n",
    "\n",
    "\n",
    "reghdfe wage hours , absorb(industry occupation) cluster(industry occupation) nocons"
   ]
  },
  {
   "cell_type": "code",
   "execution_count": null,
   "metadata": {},
   "outputs": [],
   "source": [
    "* install estout to make regression tables\n",
    "ssc install estout, replace"
   ]
  },
  {
   "cell_type": "code",
   "execution_count": null,
   "metadata": {},
   "outputs": [],
   "source": [
    "* \"qui\" mean \"quietly\" -- dont show regression output\n",
    "eststo clear\n",
    "eststo: qui reghdfe wage hours , noabsorb \n",
    "eststo: qui reghdfe wage hours , absorb(industry) cluster(industry) nocons\n",
    "eststo: qui reghdfe wage hours, absorb(industry occupation) cluster(industry occupation) nocons\n",
    "eststo: qui reghdfe wage hours union, absorb(industry occupation) cluster(industry occupation) nocons\n"
   ]
  },
  {
   "cell_type": "code",
   "execution_count": null,
   "metadata": {},
   "outputs": [],
   "source": [
    "* se means report standard errors, r2 means report r-squared\n",
    "esttab, se r2"
   ]
  },
  {
   "cell_type": "code",
   "execution_count": null,
   "metadata": {},
   "outputs": [],
   "source": [
    "* get predicted yhat from last regression:\n",
    "predict wagehat"
   ]
  },
  {
   "cell_type": "code",
   "execution_count": null,
   "metadata": {},
   "outputs": [],
   "source": [
    "* get residuals from last regression\n",
    "gen wagetilde = wage - wagehat"
   ]
  },
  {
   "cell_type": "code",
   "execution_count": null,
   "metadata": {},
   "outputs": [],
   "source": [
    "* plot predictions against true values for outcome\n",
    "scatter wagehat wage "
   ]
  },
  {
   "cell_type": "code",
   "execution_count": null,
   "metadata": {},
   "outputs": [],
   "source": [
    "* binned means look better\n",
    "binscatter wagehat wage"
   ]
  },
  {
   "cell_type": "raw",
   "metadata": {},
   "source": [
    "* plot distribution of residuals\n",
    "kdensity wagetilde"
   ]
  },
  {
   "cell_type": "markdown",
   "metadata": {},
   "source": [
    "# Panel Data"
   ]
  },
  {
   "cell_type": "code",
   "execution_count": null,
   "metadata": {},
   "outputs": [],
   "source": [
    "* Load example dataset\n",
    "\n",
    "use https://dss.princeton.edu/training/Panel101.dta, clear"
   ]
  },
  {
   "cell_type": "code",
   "execution_count": null,
   "metadata": {},
   "outputs": [],
   "source": [
    "su"
   ]
  },
  {
   "cell_type": "code",
   "execution_count": null,
   "metadata": {},
   "outputs": [],
   "source": [
    "* tell stata that this is a panel dataset\n",
    "tsset country year"
   ]
  },
  {
   "cell_type": "code",
   "execution_count": null,
   "metadata": {},
   "outputs": [],
   "source": [
    "xtline y\n",
    "graph display"
   ]
  },
  {
   "cell_type": "code",
   "execution_count": null,
   "metadata": {},
   "outputs": [],
   "source": [
    "xtline y, overlay\n",
    "graph display"
   ]
  },
  {
   "cell_type": "code",
   "execution_count": null,
   "metadata": {},
   "outputs": [],
   "source": [
    "* Generate lags (uses value in the previous period)\n",
    "tsset country year\n",
    "gen L_y = L.y"
   ]
  },
  {
   "cell_type": "code",
   "execution_count": null,
   "metadata": {},
   "outputs": [],
   "source": [
    "* value in next period:\n",
    "gen F_y = F.y\n",
    "\n",
    "* value two periods ago:\n",
    "gen L2_y = L2.y"
   ]
  },
  {
   "cell_type": "code",
   "execution_count": null,
   "metadata": {},
   "outputs": [],
   "source": [
    "ssc install lgraph, replace\n",
    "lgraph y year\n",
    "graph display"
   ]
  },
  {
   "cell_type": "code",
   "execution_count": null,
   "metadata": {},
   "outputs": [],
   "source": [
    "reghdfe y x1, noabsorb cluster(country) "
   ]
  },
  {
   "cell_type": "code",
   "execution_count": null,
   "metadata": {},
   "outputs": [],
   "source": [
    "* the standard two-way fixed-effects model:\n",
    "\n",
    "reghdfe y x1, absorb(country year) cluster(country) nocons"
   ]
  },
  {
   "cell_type": "code",
   "execution_count": null,
   "metadata": {},
   "outputs": [],
   "source": [
    "* with two-way clustering:\n",
    "\n",
    "reghdfe y x1 x2, absorb(country year) cluster(country year) nocons"
   ]
  },
  {
   "cell_type": "code",
   "execution_count": null,
   "metadata": {},
   "outputs": [],
   "source": [
    "* can use lags/leads directly:\n",
    "\n",
    "reghdfe y L.x1 x1 F.x1, absorb(country year) cluster(country) nocons"
   ]
  },
  {
   "cell_type": "code",
   "execution_count": null,
   "metadata": {},
   "outputs": [],
   "source": []
  },
  {
   "cell_type": "code",
   "execution_count": null,
   "metadata": {},
   "outputs": [],
   "source": []
  }
 ],
 "metadata": {
  "kernelspec": {
   "display_name": "Python 3",
   "language": "python",
   "name": "python3"
  },
  "language_info": {
   "codemirror_mode": {
    "name": "ipython",
    "version": 3
   },
   "file_extension": ".py",
   "mimetype": "text/x-python",
   "name": "python",
   "nbconvert_exporter": "python",
   "pygments_lexer": "ipython3",
   "version": "3.7.6"
  }
 },
 "nbformat": 4,
 "nbformat_minor": 4
}
