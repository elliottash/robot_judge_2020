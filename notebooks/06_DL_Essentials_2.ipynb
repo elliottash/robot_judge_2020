{
 "cells": [
  {
   "cell_type": "markdown",
   "metadata": {},
   "source": [
    "# Week 6: Deep Learning Essentials"
   ]
  },
  {
   "cell_type": "markdown",
   "metadata": {},
   "source": [
    "## Backpropagation "
   ]
  },
  {
   "cell_type": "markdown",
   "metadata": {},
   "source": [
    "1. Forward pass: makes prediction from the input to the output layer\n",
    "2. Error Measurement: using a loss function it compares the desired output and the actual output of the network and returns some measure of error\n",
    "3. Reverse pass: going backward computes how much each connection contributed to the error, until reaching the input layer\n",
    "4. Gradient Descent step: tweaks the connection weights to reduce the error"
   ]
  },
  {
   "cell_type": "markdown",
   "metadata": {},
   "source": [
    "## Building a Network"
   ]
  },
  {
   "cell_type": "markdown",
   "metadata": {},
   "source": [
    "- 1 input layer + 1 or more hidden layers + 1 output layer\n",
    "- \\# input neurons = \\# features \n",
    "- \\# hidden layers = typically from 1 to 5 \n",
    "- \\# neurons per layer = typycally from 10 to 100\n",
    "- hidden activation: ReLU ()\n",
    "- \\# output layers, output activation, loss function: depends on the problem "
   ]
  },
  {
   "cell_type": "markdown",
   "metadata": {},
   "source": [
    "## Continuous Outcomes"
   ]
  },
  {
   "cell_type": "code",
   "execution_count": 1,
   "metadata": {},
   "outputs": [],
   "source": [
    "import pandas as pd\n",
    "from sklearn.model_selection import train_test_split\n",
    "\n",
    "from sklearn.datasets import load_boston\n",
    "boston = load_boston()\n",
    "\n",
    "bdata = pd.DataFrame(boston.data, columns=boston['feature_names'])\n",
    "X, y = bdata.iloc[:,:],boston.target\n",
    "X_train, X_test, y_train, y_test = train_test_split(X, y, test_size=0.2, random_state=42)"
   ]
  },
  {
   "cell_type": "markdown",
   "metadata": {},
   "source": [
    "- \\# output neurons: 1\n",
    "- output activation function: none\n",
    "- loss function: MSE or Mean Absolute Error"
   ]
  },
  {
   "cell_type": "code",
   "execution_count": 2,
   "metadata": {},
   "outputs": [
    {
     "name": "stdout",
     "output_type": "stream",
     "text": [
      "Model: \"sequential\"\n",
      "_________________________________________________________________\n",
      "Layer (type)                 Output Shape              Param #   \n",
      "=================================================================\n",
      "dense (Dense)                (None, 30)                420       \n",
      "_________________________________________________________________\n",
      "dense_1 (Dense)              (None, 15)                465       \n",
      "_________________________________________________________________\n",
      "dense_2 (Dense)              (None, 1)                 16        \n",
      "=================================================================\n",
      "Total params: 901\n",
      "Trainable params: 901\n",
      "Non-trainable params: 0\n",
      "_________________________________________________________________\n"
     ]
    }
   ],
   "source": [
    "from tensorflow import keras\n",
    "model = keras.models.Sequential()\n",
    "\n",
    "model.add(keras.layers.Dense(30, input_dim = X.shape[1], activation=\"relu\"))\n",
    "model.add(keras.layers.Dense(15, activation=\"relu\"))\n",
    "model.add(keras.layers.Dense(1, activation=\"relu\"))\n",
    "\n",
    "model.summary()"
   ]
  },
  {
   "cell_type": "code",
   "execution_count": 3,
   "metadata": {},
   "outputs": [],
   "source": [
    "model.compile(loss=\"mean_squared_error\",\n",
    "              optimizer=\"adam\",\n",
    "              metrics=[\"mean_squared_error\"])"
   ]
  },
  {
   "cell_type": "code",
   "execution_count": 4,
   "metadata": {},
   "outputs": [
    {
     "name": "stdout",
     "output_type": "stream",
     "text": [
      "Epoch 1/8\n",
      "11/11 [==============================] - 0s 33ms/step - loss: 137.4698 - mean_squared_error: 137.4698 - val_loss: 99.7942 - val_mean_squared_error: 99.7942\n",
      "Epoch 2/8\n",
      "11/11 [==============================] - 0s 11ms/step - loss: 91.5954 - mean_squared_error: 91.5954 - val_loss: 81.0520 - val_mean_squared_error: 81.0520\n",
      "Epoch 3/8\n",
      "11/11 [==============================] - 0s 14ms/step - loss: 86.4987 - mean_squared_error: 86.4987 - val_loss: 66.8325 - val_mean_squared_error: 66.8325\n",
      "Epoch 4/8\n",
      "11/11 [==============================] - 0s 15ms/step - loss: 91.1702 - mean_squared_error: 91.1702 - val_loss: 66.5525 - val_mean_squared_error: 66.5525\n",
      "Epoch 5/8\n",
      "11/11 [==============================] - 0s 13ms/step - loss: 78.0145 - mean_squared_error: 78.0145 - val_loss: 73.4122 - val_mean_squared_error: 73.4122\n",
      "Epoch 6/8\n",
      "11/11 [==============================] - 0s 15ms/step - loss: 75.3097 - mean_squared_error: 75.3097 - val_loss: 66.0881 - val_mean_squared_error: 66.0881\n",
      "Epoch 7/8\n",
      "11/11 [==============================] - 0s 14ms/step - loss: 72.9728 - mean_squared_error: 72.9728 - val_loss: 66.3112 - val_mean_squared_error: 66.3112\n",
      "Epoch 8/8\n",
      "11/11 [==============================] - 0s 13ms/step - loss: 71.3605 - mean_squared_error: 71.3605 - val_loss: 62.3963 - val_mean_squared_error: 62.3963\n"
     ]
    }
   ],
   "source": [
    "history = model.fit(X_train, y_train, epochs=8,\n",
    "                    validation_split=0.2)"
   ]
  },
  {
   "cell_type": "code",
   "execution_count": 5,
   "metadata": {},
   "outputs": [
    {
     "data": {
      "text/plain": [
       "62.39632797241211"
      ]
     },
     "execution_count": 5,
     "metadata": {},
     "output_type": "execute_result"
    }
   ],
   "source": [
    "history.history['val_mean_squared_error'][-1]"
   ]
  },
  {
   "cell_type": "code",
   "execution_count": 6,
   "metadata": {},
   "outputs": [
    {
     "data": {
      "text/plain": [
       "<matplotlib.legend.Legend at 0x7fec7487aac0>"
      ]
     },
     "execution_count": 6,
     "metadata": {},
     "output_type": "execute_result"
    },
    {
     "data": {
      "image/png": "[encoded data removed]",
      "text/plain": [
       "<Figure size 432x288 with 1 Axes>"
      ]
     },
     "metadata": {
      "needs_background": "light"
     },
     "output_type": "display_data"
    }
   ],
   "source": [
    "%matplotlib inline\n",
    "import matplotlib.pyplot as plt\n",
    "# Plot performance by epoch\n",
    "plt.plot(history.epoch,history.history['mean_squared_error'])\n",
    "plt.plot(history.epoch,history.history['val_mean_squared_error'])\n",
    "plt.legend(['train', 'val'], loc='best')"
   ]
  },
  {
   "cell_type": "code",
   "execution_count": 7,
   "metadata": {},
   "outputs": [
    {
     "name": "stdout",
     "output_type": "stream",
     "text": [
      "dense\n",
      "[array([[ 2.66764224e-01,  2.06221819e-01, -2.38244191e-01,\n",
      "         2.92424858e-01,  2.55288273e-01,  3.24543625e-01,\n",
      "         1.68320313e-01, -1.91266149e-01,  1.86640829e-01,\n",
      "        -1.03274494e-01,  2.15694502e-01, -4.04949248e-01,\n",
      "        -6.78017288e-02, -1.25653803e-01,  1.69925511e-01,\n",
      "        -2.72768557e-01, -3.27627867e-01, -3.12039346e-01,\n",
      "         3.11199367e-01,  1.82204783e-01,  5.70244193e-02,\n",
      "        -1.02827400e-01,  2.95992672e-01, -1.32056162e-01,\n",
      "         2.45737851e-01,  3.54350686e-01, -9.67246890e-02,\n",
      "        -1.42773330e-01,  1.69927284e-01, -9.21992064e-02],\n",
      "       [-8.23917761e-02,  1.83110252e-01,  3.71036381e-01,\n",
      "        -7.36249983e-02, -2.88160145e-01,  8.83064866e-02,\n",
      "        -2.65394449e-01, -2.65132040e-01,  3.45169514e-01,\n",
      "        -2.77218342e-01,  3.71517032e-01,  2.31176734e-01,\n",
      "         2.98265159e-01,  1.08074233e-01, -2.38999680e-01,\n",
      "        -2.97949404e-01,  2.55520523e-01, -3.40960920e-01,\n",
      "         7.06645846e-03, -6.06626868e-02,  4.59586680e-02,\n",
      "        -1.19715005e-01, -3.30365419e-01,  8.16499889e-02,\n",
      "        -1.69197232e-01, -2.15549007e-01, -1.73657700e-01,\n",
      "         5.36861122e-02,  2.95542598e-01, -2.16471419e-01],\n",
      "       [ 3.61616254e-01, -6.99648932e-02, -3.56553644e-01,\n",
      "         2.81610966e-01,  3.04472268e-01,  3.42046976e-01,\n",
      "         2.54774541e-01, -5.92462122e-02, -3.63103718e-01,\n",
      "         1.40060544e-01, -3.65799099e-01, -2.99477369e-01,\n",
      "         9.75754336e-02,  1.78181723e-01,  2.49593612e-02,\n",
      "         1.66745231e-01, -1.53784379e-01, -1.16650097e-01,\n",
      "        -2.05367431e-01,  3.08481157e-01, -3.23795378e-02,\n",
      "         1.34206295e-01,  7.00292364e-02,  4.84753679e-03,\n",
      "        -2.37793371e-01,  1.99583948e-01, -1.10083729e-01,\n",
      "         1.41213462e-01, -6.66406304e-02, -3.22542965e-01],\n",
      "       [ 1.74673945e-01, -4.14768942e-02,  1.26476571e-01,\n",
      "         1.83530509e-01,  2.67816484e-01, -1.97167322e-01,\n",
      "         2.17098087e-01, -1.27722904e-01,  3.94548774e-01,\n",
      "         3.91244888e-04,  3.76815796e-01,  1.90546259e-01,\n",
      "         2.36152455e-01,  3.38648930e-02, -1.20770477e-01,\n",
      "        -9.09682736e-02, -3.39451790e-01, -4.46784310e-02,\n",
      "         2.84467340e-01,  3.59747231e-01,  3.00366759e-01,\n",
      "         8.26096833e-02, -1.66293919e-01, -3.24248284e-01,\n",
      "        -4.09896672e-02,  8.85109603e-02,  3.31852198e-01,\n",
      "         1.34105936e-01,  2.84480691e-01,  2.37390175e-01],\n",
      "       [ 1.91496149e-01,  2.23381862e-01,  1.58313364e-01,\n",
      "         9.90191400e-02,  9.22094658e-02, -2.18897387e-01,\n",
      "         2.16415629e-01,  2.20283866e-02, -3.37914973e-01,\n",
      "        -1.08677655e-01, -9.47960094e-02,  3.71056199e-01,\n",
      "        -2.08008230e-01,  5.33049405e-02,  1.94272667e-01,\n",
      "        -5.00140525e-03,  1.80393994e-01, -3.14242899e-01,\n",
      "         5.21364808e-03, -1.09132826e-02,  3.31050038e-01,\n",
      "         3.07632864e-01,  3.38848829e-02,  1.77845255e-01,\n",
      "         1.61210537e-01,  2.08282530e-01,  3.43579531e-01,\n",
      "         7.79202580e-02, -2.32073069e-01,  3.10113758e-01],\n",
      "       [ 6.05017431e-02,  7.13249445e-02, -2.79516339e-01,\n",
      "         1.56864762e-01,  3.41575831e-01, -2.89350338e-02,\n",
      "        -2.10879803e-01,  3.60484064e-01, -4.42207865e-02,\n",
      "        -8.31209719e-02, -4.97251935e-02,  3.04075152e-01,\n",
      "         5.96102998e-02, -1.81848317e-01,  3.72185320e-01,\n",
      "         1.00157365e-01, -1.83961287e-01,  5.93383051e-03,\n",
      "         2.47542560e-02,  2.22196341e-01, -1.53068960e-01,\n",
      "        -2.49324024e-01, -3.68829444e-02,  3.21620107e-01,\n",
      "        -2.52457410e-01, -2.36705244e-01, -5.82960248e-02,\n",
      "         3.14420819e-01,  2.22352117e-01,  3.39744449e-01],\n",
      "       [-2.56323010e-01,  4.05563079e-02,  3.08997214e-01,\n",
      "         3.25323880e-01, -2.31340323e-02,  2.47577310e-01,\n",
      "        -6.71661571e-02,  1.78159237e-01,  1.69795409e-01,\n",
      "         2.62664795e-01,  2.88959712e-01,  2.39810944e-01,\n",
      "         8.30295160e-02, -1.56787619e-01,  7.17639774e-02,\n",
      "         1.37313962e-01, -2.98265219e-01, -2.26604994e-02,\n",
      "        -4.89473343e-04, -1.33733109e-01, -1.87079713e-01,\n",
      "         3.42665792e-01, -3.68230373e-01,  5.54409362e-02,\n",
      "        -1.07540190e-01,  3.28627646e-01, -1.68653339e-01,\n",
      "         3.02566648e-01,  7.17476532e-02, -1.32161245e-01],\n",
      "       [-4.75009680e-02, -1.95365071e-01, -6.11958727e-02,\n",
      "         2.16080785e-01, -1.07377497e-02, -3.11120719e-01,\n",
      "         6.99485466e-02, -1.26000047e-01,  1.97068110e-01,\n",
      "        -1.70158729e-01, -2.76273668e-01,  3.63628328e-01,\n",
      "         3.39577466e-01,  1.27410084e-01, -1.54904546e-02,\n",
      "        -2.54677802e-01,  3.72440219e-01,  6.28539845e-02,\n",
      "        -3.35482657e-02,  2.00781107e-01,  9.54746306e-02,\n",
      "         1.03687048e-02,  3.51480216e-01, -1.28524050e-01,\n",
      "         2.10182190e-01,  9.16141570e-02, -3.43015075e-01,\n",
      "         1.69327438e-01,  3.38000745e-01, -1.55505106e-01],\n",
      "       [ 1.40092015e-01,  3.18349302e-01, -6.14579432e-02,\n",
      "         1.37255669e-01,  2.04391658e-01,  9.81397927e-02,\n",
      "        -3.70967276e-02,  3.64525914e-02, -1.25979945e-01,\n",
      "         2.46997416e-01, -2.93628350e-02, -6.71329647e-02,\n",
      "         2.72224575e-01, -1.18322074e-01, -5.98527752e-02,\n",
      "        -1.98923305e-01,  1.83814526e-01, -3.45736921e-01,\n",
      "        -1.80349201e-01,  3.41829062e-02, -4.92334664e-02,\n",
      "        -1.78330138e-01, -3.63013111e-02,  6.82459772e-02,\n",
      "        -1.20694846e-01,  2.43477941e-01, -3.10874373e-01,\n",
      "         2.69420482e-02, -2.94424623e-01, -2.59453326e-01],\n",
      "       [-2.79200464e-01,  2.61967987e-01,  3.32527548e-01,\n",
      "        -3.66707265e-01,  2.88169473e-01,  2.76565343e-01,\n",
      "        -7.53912777e-02, -2.42339164e-01, -1.08224340e-01,\n",
      "        -3.63322556e-01,  2.15817392e-01,  9.07174349e-02,\n",
      "        -2.35860065e-01,  3.26481372e-01,  5.66043779e-02,\n",
      "         3.56544524e-01, -1.56213835e-01,  1.95521906e-01,\n",
      "        -1.81244969e-01, -2.39559516e-01, -3.04506868e-01,\n",
      "        -1.01105452e-01,  1.65699258e-01,  1.24802738e-01,\n",
      "        -3.29374671e-01, -2.70776302e-01, -1.19478554e-01,\n",
      "        -2.43408158e-02, -3.15113366e-02,  2.20313758e-01],\n",
      "       [ 2.08746642e-01, -5.41253351e-02,  1.72171250e-01,\n",
      "        -1.35678887e-01,  3.23333591e-01,  2.80108720e-01,\n",
      "         2.83006042e-01,  2.42888391e-01, -1.63834468e-01,\n",
      "         3.63161266e-01,  1.88616559e-01, -1.52884975e-01,\n",
      "         9.79464278e-02, -2.91566640e-01,  3.18715811e-01,\n",
      "         2.67102778e-01,  3.47508907e-01,  1.48621984e-02,\n",
      "        -9.52618718e-02,  3.07696164e-02, -1.81111559e-01,\n",
      "        -4.40933108e-02,  3.15049291e-01, -1.55439526e-01,\n",
      "         5.46694994e-02, -1.17248595e-01, -9.12721753e-02,\n",
      "         3.67799968e-01, -7.91857466e-02,  5.05559668e-02],\n",
      "       [ 2.61027217e-01,  1.80218071e-01,  3.53078991e-01,\n",
      "        -1.85763955e-01, -3.54362637e-01,  1.25339046e-01,\n",
      "         2.37274975e-01,  5.91498613e-03,  8.54197070e-02,\n",
      "        -2.85248220e-01, -2.78632134e-01,  1.47818550e-01,\n",
      "         6.79011941e-02, -2.05503628e-02, -3.28106970e-01,\n",
      "        -2.22239211e-01, -9.99930799e-02,  2.66542047e-01,\n",
      "        -2.61785269e-01, -1.94325000e-01, -3.62611949e-01,\n",
      "        -1.99590117e-01,  1.69820860e-02, -3.05766702e-01,\n",
      "        -1.94285989e-01, -3.06541353e-01, -2.74674356e-01,\n",
      "        -3.00438970e-01,  1.43560827e-01,  1.11078463e-01],\n",
      "       [ 1.53036371e-01, -4.54324223e-02, -3.78685385e-01,\n",
      "        -7.58017004e-02,  1.95379883e-01,  2.51759142e-01,\n",
      "        -2.41137028e-01, -7.47431219e-02, -3.09461266e-01,\n",
      "        -2.59143472e-01,  3.04041237e-01,  4.14083749e-02,\n",
      "         2.54930198e-01,  1.39382551e-03,  9.90023911e-02,\n",
      "        -3.15633386e-01, -1.00149930e-01,  2.76960790e-01,\n",
      "        -1.21251822e-01,  1.94420040e-01,  3.59778345e-01,\n",
      "         1.14219576e-01, -3.27168256e-01, -2.09607095e-01,\n",
      "        -2.53068715e-01,  1.19596481e-01,  1.73913121e-01,\n",
      "         1.91967040e-02, -2.92695940e-01,  1.35179728e-01]], dtype=float32), array([ 1.1032065e-02,  1.1123607e-02, -1.5499271e-02,  0.0000000e+00,\n",
      "       -2.9543847e-02,  9.2253499e-03,  5.8369902e-03,  0.0000000e+00,\n",
      "        5.7610625e-05,  0.0000000e+00,  1.6478720e-03,  1.5760655e-02,\n",
      "        4.7303657e-03, -7.0730122e-03,  1.5638780e-02, -3.3067248e-03,\n",
      "        0.0000000e+00,  1.8759714e-02,  0.0000000e+00,  0.0000000e+00,\n",
      "        0.0000000e+00,  0.0000000e+00, -1.5293966e-02, -2.6074396e-02,\n",
      "        0.0000000e+00,  0.0000000e+00,  0.0000000e+00, -2.8789858e-04,\n",
      "        8.1950836e-03, -1.6712438e-02], dtype=float32)]\n",
      "dense_1\n",
      "[array([[ 0.35215223,  0.34110105, -0.3789377 , -0.17334689,  0.02300233,\n",
      "         0.3593498 ,  0.13952065, -0.08050936, -0.11317109,  0.15090516,\n",
      "        -0.34396568,  0.29555154, -0.00071542,  0.05966064, -0.29251158],\n",
      "       [-0.04978141, -0.3230036 ,  0.08384666, -0.1623215 , -0.2120761 ,\n",
      "         0.08616177,  0.02305883, -0.15615395,  0.05555011,  0.31544986,\n",
      "        -0.20650028, -0.26600924, -0.26892352,  0.19700472, -0.23366629],\n",
      "       [-0.30495304,  0.09296262,  0.15245521,  0.35492885, -0.20736268,\n",
      "         0.34911877, -0.2449168 , -0.19896105,  0.34013948,  0.15518643,\n",
      "         0.34791628, -0.07230014,  0.28141126, -0.01240982, -0.1579972 ],\n",
      "       [ 0.03365347,  0.36443913, -0.15895583,  0.33091438,  0.32081008,\n",
      "         0.20249528, -0.30162525, -0.3313934 , -0.1819586 ,  0.24266523,\n",
      "        -0.18993695,  0.07173941,  0.08775505, -0.05554527, -0.01938742],\n",
      "       [ 0.291386  , -0.09824035, -0.2237774 , -0.302638  ,  0.35280943,\n",
      "        -0.05087203,  0.2967583 ,  0.03062785, -0.01233586, -0.0917443 ,\n",
      "         0.33455867,  0.02875306,  0.04799242,  0.2573446 ,  0.09268157],\n",
      "       [ 0.00463882, -0.03642321,  0.06107045, -0.2778668 , -0.27662486,\n",
      "         0.18244284, -0.2928255 , -0.19092236, -0.14702351,  0.20587566,\n",
      "        -0.14071123,  0.19591095, -0.03118984,  0.27530667,  0.15101871],\n",
      "       [ 0.0411053 ,  0.29258358, -0.23351862, -0.30114338, -0.2310116 ,\n",
      "        -0.27410498,  0.28816903, -0.12427568,  0.08217671,  0.01640455,\n",
      "        -0.2134396 ,  0.05113188,  0.15676722,  0.11594191,  0.2876923 ],\n",
      "       [ 0.17651862,  0.3404268 , -0.17119707, -0.336172  , -0.0330739 ,\n",
      "         0.18890578, -0.0773086 , -0.10843363, -0.17801581,  0.20749468,\n",
      "        -0.1015186 , -0.1209344 ,  0.3489341 ,  0.1491313 ,  0.2886967 ],\n",
      "       [ 0.02978539, -0.0591138 ,  0.09635621,  0.30689436, -0.34570575,\n",
      "        -0.14304395, -0.18171614, -0.13435729,  0.38027236, -0.16123629,\n",
      "         0.11277253,  0.02641643,  0.04464484, -0.1125873 ,  0.07931641],\n",
      "       [ 0.28951633,  0.05912405,  0.13202718, -0.09129378,  0.22298145,\n",
      "         0.19671476, -0.27663592,  0.15049553,  0.30873936, -0.04097739,\n",
      "         0.26981205,  0.10953814,  0.03631422, -0.14228871,  0.12799448],\n",
      "       [-0.1253627 ,  0.0059042 ,  0.07755609, -0.25434268, -0.3352465 ,\n",
      "        -0.3586931 ,  0.32579207,  0.29944044,  0.09867369,  0.0393529 ,\n",
      "        -0.08414163,  0.19211015,  0.28861234,  0.1390265 ,  0.213662  ],\n",
      "       [ 0.04807675, -0.02622774,  0.13367942, -0.26901162, -0.23919368,\n",
      "         0.15875733,  0.2975189 ,  0.35664725, -0.18582363,  0.24361445,\n",
      "        -0.17913285, -0.012768  ,  0.27416098,  0.13662235, -0.21795678],\n",
      "       [-0.2742787 ,  0.0538103 ,  0.15624316,  0.23655182, -0.35962558,\n",
      "         0.01061599,  0.19160074,  0.2733103 ,  0.11473846, -0.26237884,\n",
      "        -0.03074571, -0.26491752,  0.07249188, -0.15181254, -0.11836453],\n",
      "       [-0.28940952,  0.08249056,  0.24134561,  0.20398152, -0.19462025,\n",
      "         0.05385222, -0.14518376, -0.35764945, -0.2376348 , -0.20344564,\n",
      "        -0.16341646,  0.1484983 ,  0.02433085, -0.3191389 , -0.07206926],\n",
      "       [ 0.15644509,  0.14413607, -0.05805295, -0.08498338, -0.1437848 ,\n",
      "         0.35319304,  0.35334992,  0.04500863,  0.29918206, -0.37677082,\n",
      "        -0.14863826,  0.10285598, -0.29500285,  0.19430144,  0.21700624],\n",
      "       [ 0.16772807, -0.3423601 ,  0.05458143, -0.27310482, -0.21551742,\n",
      "        -0.35893333, -0.35101858, -0.03005603, -0.2503199 , -0.26342216,\n",
      "         0.13647039, -0.35433194, -0.2886091 ,  0.26233944, -0.03909003],\n",
      "       [ 0.01248491,  0.0019353 , -0.00714383,  0.30805033, -0.32784265,\n",
      "        -0.10738999, -0.00648469, -0.08523071, -0.06002948,  0.26292807,\n",
      "         0.00711197, -0.11314043,  0.09698391, -0.2926856 , -0.3583676 ],\n",
      "       [ 0.06038249, -0.3211267 ,  0.12550232, -0.29452732,  0.2614339 ,\n",
      "        -0.28050217,  0.24719381, -0.14069948, -0.2773366 ,  0.0123375 ,\n",
      "        -0.31509662,  0.02481404,  0.18202598,  0.23468627, -0.18526787],\n",
      "       [-0.25276116,  0.21554023,  0.09263876, -0.06790406, -0.2958404 ,\n",
      "        -0.28735006, -0.13466068, -0.04822934, -0.27675804,  0.0092569 ,\n",
      "         0.13997263, -0.16834575,  0.02014762,  0.11562097, -0.1083847 ],\n",
      "       [ 0.02814066, -0.25412667, -0.19661361,  0.07176369, -0.2652459 ,\n",
      "        -0.21609958,  0.33812928, -0.22963765,  0.03548098,  0.19903141,\n",
      "        -0.22977833, -0.29573524, -0.1430994 ,  0.1403408 , -0.01151621],\n",
      "       [-0.13280208,  0.19837844, -0.15985157, -0.2558692 , -0.23748751,\n",
      "        -0.09254691,  0.036973  , -0.04649767, -0.34231806, -0.2882501 ,\n",
      "        -0.20938618,  0.1519612 ,  0.04430929, -0.31305572, -0.31351018],\n",
      "       [ 0.20051897,  0.20473891,  0.02295148, -0.09114057, -0.07851121,\n",
      "         0.32571095,  0.09690505, -0.34623122, -0.27846777,  0.0596337 ,\n",
      "         0.1715616 , -0.24128054,  0.17042512, -0.05716446, -0.09857264],\n",
      "       [-0.20743355,  0.15177089,  0.13297898, -0.10989195, -0.27999792,\n",
      "        -0.01442001, -0.24355285,  0.06053144,  0.06989267,  0.01169635,\n",
      "         0.31485006,  0.17096744, -0.05819331,  0.07822829, -0.06918413],\n",
      "       [-0.31384048, -0.253711  ,  0.22713876, -0.15485434,  0.04361534,\n",
      "        -0.2876767 , -0.21489017,  0.17725617,  0.10610129, -0.3666452 ,\n",
      "         0.3089958 , -0.2698929 , -0.10841697,  0.27428514,  0.2264956 ],\n",
      "       [ 0.23458463,  0.04247794, -0.17431176, -0.13999404,  0.04468173,\n",
      "        -0.02313885, -0.13602209,  0.22347873, -0.12062021,  0.1789791 ,\n",
      "         0.00549823, -0.32062125, -0.13728043,  0.29629278,  0.19597924],\n",
      "       [ 0.33538735, -0.13318862,  0.33005357,  0.23816055, -0.35574895,\n",
      "         0.16803241,  0.23145491, -0.31611973, -0.31221858, -0.1704583 ,\n",
      "        -0.19017427,  0.3459347 , -0.07504413,  0.04292923,  0.3553856 ],\n",
      "       [-0.09687623,  0.20429826,  0.2327066 ,  0.28021872,  0.29597968,\n",
      "         0.33314377, -0.03712794,  0.1601587 ,  0.04794407,  0.35129547,\n",
      "        -0.3402857 , -0.2109729 ,  0.10054243, -0.05163419,  0.06703731],\n",
      "       [-0.23831081, -0.22992459,  0.18436657,  0.28156453,  0.14977956,\n",
      "         0.08494526,  0.22395301, -0.19177666,  0.05777043,  0.12820421,\n",
      "        -0.3251466 ,  0.1216979 ,  0.2554143 ,  0.29881015, -0.10467488],\n",
      "       [ 0.20646572, -0.10306361, -0.19136876, -0.10424247, -0.16889673,\n",
      "         0.2638894 , -0.12928319,  0.11995187,  0.17775936,  0.09182648,\n",
      "        -0.14645088, -0.3230302 ,  0.21121584,  0.01352271, -0.05581036],\n",
      "       [-0.18349473, -0.24926063,  0.16735607, -0.3512684 , -0.2518521 ,\n",
      "        -0.20123453, -0.05205712,  0.19336867,  0.29438576, -0.32508424,\n",
      "         0.2992538 ,  0.07368644, -0.20198748, -0.20472345,  0.0981245 ]],\n",
      "      dtype=float32), array([ 0.        ,  0.        , -0.0097418 ,  0.        ,  0.        ,\n",
      "        0.00583725,  0.        ,  0.        ,  0.00538721, -0.0098003 ,\n",
      "       -0.01250346, -0.00983774,  0.0097254 ,  0.00914092, -0.00791656],\n",
      "      dtype=float32)]\n",
      "dense_2\n",
      "[array([[ 0.54911405],\n",
      "       [-0.2798621 ],\n",
      "       [-0.09633406],\n",
      "       [-0.36055377],\n",
      "       [ 0.3496827 ],\n",
      "       [ 0.10649326],\n",
      "       [-0.03849739],\n",
      "       [-0.3828544 ],\n",
      "       [ 0.25397074],\n",
      "       [-0.1515166 ],\n",
      "       [-0.36471844],\n",
      "       [ 0.55136317],\n",
      "       [ 0.10666312],\n",
      "       [ 0.27867022],\n",
      "       [ 0.03760345]], dtype=float32), array([0.00931999], dtype=float32)]\n"
     ]
    }
   ],
   "source": [
    "for lay in model.layers:\n",
    "    print(lay.name)\n",
    "    print(lay.get_weights())"
   ]
  },
  {
   "cell_type": "code",
   "execution_count": 8,
   "metadata": {},
   "outputs": [
    {
     "data": {
      "image/png": "[encoded data removed]",
      "text/plain": [
       "<IPython.core.display.Image object>"
      ]
     },
     "execution_count": 8,
     "metadata": {},
     "output_type": "execute_result"
    }
   ],
   "source": [
    "from IPython.display import SVG\n",
    "from tensorflow.keras.utils import plot_model\n",
    "plot_model(model,\n",
    "                   show_shapes=True,\n",
    "                   show_layer_names=False)"
   ]
  },
  {
   "cell_type": "code",
   "execution_count": 9,
   "metadata": {},
   "outputs": [
    {
     "data": {
      "image/png": "[encoded data removed]",
      "text/plain": [
       "<Figure size 432x288 with 1 Axes>"
      ]
     },
     "metadata": {
      "needs_background": "light"
     },
     "output_type": "display_data"
    }
   ],
   "source": [
    "import numpy as np\n",
    "y_pred = model.predict(X_test)\n",
    "\n",
    "plt.scatter(y_test, y_pred)\n",
    "plt.plot([0, 50], [0, 50], '--k')\n",
    "plt.axis('tight')\n",
    "plt.xlabel('True price ($1000s)')\n",
    "plt.ylabel('Predicted price ($1000s)')\n",
    "plt.tight_layout()"
   ]
  },
  {
   "cell_type": "markdown",
   "metadata": {},
   "source": [
    "## Binary Classification"
   ]
  },
  {
   "cell_type": "code",
   "execution_count": 10,
   "metadata": {},
   "outputs": [],
   "source": [
    "beer_data = pd.read_csv(\"https://www.dropbox.com/s/5fbmj4gqktrmn00/beers.csv?dl=1\")\n",
    "X, y = beer_data.iloc[:, :-1], beer_data.iloc[:, -1]\n",
    "\n",
    "X_train, X_test, y_train, y_test = train_test_split(X, y, test_size=0.2, random_state=42)"
   ]
  },
  {
   "cell_type": "markdown",
   "metadata": {},
   "source": [
    "- \\# output neurons: 1\n",
    "- output activation function: Logistic\n",
    "- loss function: binary_crossentropy"
   ]
  },
  {
   "cell_type": "code",
   "execution_count": 11,
   "metadata": {},
   "outputs": [
    {
     "name": "stdout",
     "output_type": "stream",
     "text": [
      "Model: \"sequential_1\"\n",
      "_________________________________________________________________\n",
      "Layer (type)                 Output Shape              Param #   \n",
      "=================================================================\n",
      "dense_3 (Dense)              (None, 50)                250       \n",
      "_________________________________________________________________\n",
      "dense_4 (Dense)              (None, 25)                1275      \n",
      "_________________________________________________________________\n",
      "dense_5 (Dense)              (None, 1)                 26        \n",
      "=================================================================\n",
      "Total params: 1,551\n",
      "Trainable params: 1,551\n",
      "Non-trainable params: 0\n",
      "_________________________________________________________________\n"
     ]
    }
   ],
   "source": [
    "model = keras.models.Sequential()\n",
    "\n",
    "model.add(keras.layers.Dense(50, input_dim = X.shape[1], activation=\"relu\"))\n",
    "model.add(keras.layers.Dense(25, activation=\"relu\"))\n",
    "model.add(keras.layers.Dense(1, activation=\"sigmoid\"))\n",
    "\n",
    "model.summary()"
   ]
  },
  {
   "cell_type": "code",
   "execution_count": 12,
   "metadata": {},
   "outputs": [],
   "source": [
    "model.compile(loss=\"binary_crossentropy\",\n",
    "              optimizer=\"adam\",\n",
    "              metrics=[\"accuracy\"])"
   ]
  },
  {
   "cell_type": "code",
   "execution_count": 13,
   "metadata": {},
   "outputs": [
    {
     "name": "stdout",
     "output_type": "stream",
     "text": [
      "Epoch 1/8\n",
      "5/5 [==============================] - 0s 62ms/step - loss: 0.7125 - accuracy: 0.5278 - val_loss: 0.6979 - val_accuracy: 0.5000\n",
      "Epoch 2/8\n",
      "5/5 [==============================] - 0s 20ms/step - loss: 0.6839 - accuracy: 0.5278 - val_loss: 0.6855 - val_accuracy: 0.5000\n",
      "Epoch 3/8\n",
      "5/5 [==============================] - 0s 19ms/step - loss: 0.6677 - accuracy: 0.5278 - val_loss: 0.6736 - val_accuracy: 0.5000\n",
      "Epoch 4/8\n",
      "5/5 [==============================] - 0s 24ms/step - loss: 0.6529 - accuracy: 0.6042 - val_loss: 0.6650 - val_accuracy: 0.7500\n",
      "Epoch 5/8\n",
      "5/5 [==============================] - 0s 23ms/step - loss: 0.6440 - accuracy: 0.6667 - val_loss: 0.6584 - val_accuracy: 0.7222\n",
      "Epoch 6/8\n",
      "5/5 [==============================] - 0s 19ms/step - loss: 0.6337 - accuracy: 0.6806 - val_loss: 0.6531 - val_accuracy: 0.7500\n",
      "Epoch 7/8\n",
      "5/5 [==============================] - 0s 21ms/step - loss: 0.6268 - accuracy: 0.6944 - val_loss: 0.6498 - val_accuracy: 0.7500\n",
      "Epoch 8/8\n",
      "5/5 [==============================] - 0s 26ms/step - loss: 0.6219 - accuracy: 0.6875 - val_loss: 0.6478 - val_accuracy: 0.7500\n"
     ]
    }
   ],
   "source": [
    "history = model.fit(X_train, y_train, epochs=8,\n",
    "                    validation_split=0.2)"
   ]
  },
  {
   "cell_type": "code",
   "execution_count": 14,
   "metadata": {},
   "outputs": [
    {
     "name": "stdout",
     "output_type": "stream",
     "text": [
      "0.75\n"
     ]
    },
    {
     "data": {
      "text/plain": [
       "<matplotlib.legend.Legend at 0x7fed8c8db190>"
      ]
     },
     "execution_count": 14,
     "metadata": {},
     "output_type": "execute_result"
    },
    {
     "data": {
      "image/png": "[encoded data removed]",
      "text/plain": [
       "<Figure size 432x288 with 1 Axes>"
      ]
     },
     "metadata": {
      "needs_background": "light"
     },
     "output_type": "display_data"
    }
   ],
   "source": [
    "print(history.history['val_accuracy'][-1])\n",
    "plt.plot(history.epoch,history.history['accuracy'])\n",
    "plt.plot(history.epoch,history.history['val_accuracy'])\n",
    "plt.legend(['train', 'val'], loc='best')"
   ]
  },
  {
   "cell_type": "code",
   "execution_count": 15,
   "metadata": {},
   "outputs": [
    {
     "data": {
      "text/plain": [
       "(array([[0.7242385 ],\n",
       "        [0.70342577],\n",
       "        [0.61450046],\n",
       "        [0.6017746 ],\n",
       "        [0.63075334],\n",
       "        [0.79203737],\n",
       "        [0.42843083]], dtype=float32),\n",
       " array([[1.],\n",
       "        [1.],\n",
       "        [1.],\n",
       "        [1.],\n",
       "        [1.],\n",
       "        [1.],\n",
       "        [0.]], dtype=float32),\n",
       " 9      1\n",
       " 184    0\n",
       " 120    1\n",
       " 207    1\n",
       " 148    1\n",
       " 214    1\n",
       " 182    1\n",
       " Name: is_yummy, dtype: int64)"
      ]
     },
     "execution_count": 15,
     "metadata": {},
     "output_type": "execute_result"
    }
   ],
   "source": [
    "y_pred_prob = model.predict(X_test)\n",
    "y_pred = np.around(y_pred_prob) \n",
    "\n",
    "y_pred_prob[0:7], y_pred[0:7], y_test[0:7]"
   ]
  },
  {
   "cell_type": "markdown",
   "metadata": {},
   "source": [
    "## Multiclass Classification"
   ]
  },
  {
   "cell_type": "code",
   "execution_count": 16,
   "metadata": {},
   "outputs": [],
   "source": [
    "from sklearn.datasets import load_iris\n",
    "iris = load_iris()\n",
    "\n",
    "X_train, X_test, y_train, y_test = train_test_split(iris.data, iris.target, test_size=0.2, random_state=42)"
   ]
  },
  {
   "cell_type": "markdown",
   "metadata": {},
   "source": [
    "\n",
    "- \\# output neurons = \\# classes\n",
    "- output activation function: softmax\n",
    "- loss function: sparse_categorical_crossentropy"
   ]
  },
  {
   "cell_type": "code",
   "execution_count": 17,
   "metadata": {},
   "outputs": [
    {
     "name": "stdout",
     "output_type": "stream",
     "text": [
      "Model: \"sequential_2\"\n",
      "_________________________________________________________________\n",
      "Layer (type)                 Output Shape              Param #   \n",
      "=================================================================\n",
      "dense_6 (Dense)              (None, 100)               500       \n",
      "_________________________________________________________________\n",
      "dense_7 (Dense)              (None, 75)                7575      \n",
      "_________________________________________________________________\n",
      "dense_8 (Dense)              (None, 60)                4560      \n",
      "_________________________________________________________________\n",
      "dense_9 (Dense)              (None, 3)                 183       \n",
      "=================================================================\n",
      "Total params: 12,818\n",
      "Trainable params: 12,818\n",
      "Non-trainable params: 0\n",
      "_________________________________________________________________\n"
     ]
    }
   ],
   "source": [
    "model = keras.models.Sequential()\n",
    "\n",
    "model.add(keras.layers.Dense(100, input_dim=X_train.shape[1], activation=\"relu\"))\n",
    "model.add(keras.layers.Dense(75, activation=\"relu\"))\n",
    "model.add(keras.layers.Dense(60, activation=\"relu\"))\n",
    "model.add(keras.layers.Dense(3, activation=\"softmax\"))\n",
    "\n",
    "model.summary()"
   ]
  },
  {
   "cell_type": "code",
   "execution_count": 18,
   "metadata": {},
   "outputs": [],
   "source": [
    "model.compile(loss=\"sparse_categorical_crossentropy\",\n",
    "              optimizer=\"adam\",\n",
    "              metrics=[\"accuracy\"])"
   ]
  },
  {
   "cell_type": "code",
   "execution_count": 19,
   "metadata": {},
   "outputs": [
    {
     "name": "stdout",
     "output_type": "stream",
     "text": [
      "Epoch 1/8\n",
      "3/3 [==============================] - 0s 100ms/step - loss: 1.1119 - accuracy: 0.4167 - val_loss: 1.0601 - val_accuracy: 0.5000\n",
      "Epoch 2/8\n",
      "3/3 [==============================] - 0s 35ms/step - loss: 0.9560 - accuracy: 0.7188 - val_loss: 0.9299 - val_accuracy: 0.5000\n",
      "Epoch 3/8\n",
      "3/3 [==============================] - 0s 42ms/step - loss: 0.8755 - accuracy: 0.6042 - val_loss: 0.8311 - val_accuracy: 0.7083\n",
      "Epoch 4/8\n",
      "3/3 [==============================] - 0s 43ms/step - loss: 0.7829 - accuracy: 0.8125 - val_loss: 0.7753 - val_accuracy: 0.5000\n",
      "Epoch 5/8\n",
      "3/3 [==============================] - 0s 29ms/step - loss: 0.7093 - accuracy: 0.7292 - val_loss: 0.7395 - val_accuracy: 0.5000\n",
      "Epoch 6/8\n",
      "3/3 [==============================] - 0s 56ms/step - loss: 0.6422 - accuracy: 0.7188 - val_loss: 0.6990 - val_accuracy: 0.5000\n",
      "Epoch 7/8\n",
      "3/3 [==============================] - 0s 45ms/step - loss: 0.5865 - accuracy: 0.7188 - val_loss: 0.6415 - val_accuracy: 0.5000\n",
      "Epoch 8/8\n",
      "3/3 [==============================] - 0s 47ms/step - loss: 0.5300 - accuracy: 0.7604 - val_loss: 0.5755 - val_accuracy: 1.0000\n"
     ]
    }
   ],
   "source": [
    "history = model.fit(X_train, y_train, epochs=8,\n",
    "                    validation_split=0.2)"
   ]
  },
  {
   "cell_type": "code",
   "execution_count": 20,
   "metadata": {},
   "outputs": [
    {
     "name": "stdout",
     "output_type": "stream",
     "text": [
      "1.0\n"
     ]
    },
    {
     "data": {
      "text/plain": [
       "<matplotlib.legend.Legend at 0x7fec75481dc0>"
      ]
     },
     "execution_count": 20,
     "metadata": {},
     "output_type": "execute_result"
    },
    {
     "data": {
      "image/png": "[encoded data removed]",
      "text/plain": [
       "<Figure size 432x288 with 1 Axes>"
      ]
     },
     "metadata": {
      "needs_background": "light"
     },
     "output_type": "display_data"
    }
   ],
   "source": [
    "print(history.history['val_accuracy'][-1])\n",
    "plt.plot(history.epoch,history.history['accuracy'])\n",
    "plt.plot(history.epoch,history.history['val_accuracy'])\n",
    "plt.legend(['train', 'val'], loc='best')"
   ]
  },
  {
   "cell_type": "code",
   "execution_count": 21,
   "metadata": {},
   "outputs": [
    {
     "data": {
      "text/plain": [
       "(array([[0.06257397, 0.5041932 , 0.43323287],\n",
       "        [0.87976575, 0.06936415, 0.05087012],\n",
       "        [0.01334539, 0.45143926, 0.5352153 ],\n",
       "        [0.0741253 , 0.50777364, 0.41810104],\n",
       "        [0.05295895, 0.515473  , 0.43156803],\n",
       "        [0.8463793 , 0.08748495, 0.06613577],\n",
       "        [0.17053016, 0.49460596, 0.33486387]], dtype=float32),\n",
       " array([1, 0, 2, 1, 1, 0, 1]),\n",
       " array([1, 0, 2, 1, 1, 0, 1]))"
      ]
     },
     "execution_count": 21,
     "metadata": {},
     "output_type": "execute_result"
    }
   ],
   "source": [
    "y_pred_prob = model.predict(X_test)\n",
    "y_pred = np.argmax(y_pred_prob,axis=1)\n",
    "\n",
    "y_pred_prob[0:7], y_pred[0:7], y_test[0:7]"
   ]
  },
  {
   "cell_type": "markdown",
   "metadata": {},
   "source": [
    "## Vanishing and Exploding Gradients "
   ]
  },
  {
   "cell_type": "markdown",
   "metadata": {},
   "source": [
    "Recall that during backpropagation the algorithm computes the gradient of the cost function w.r.t each parameter and it uses these gradients to update each parameter with a Gradient Descent step. <br>\n",
    "\n",
    "<b>Vanishing gradient problem:</b> gradients often get smaller and smaller as the algorithm progresses down to the lower layers $\\implies$ lower layers connection weights remain virtually unchanged. <br>\n",
    "\n",
    "<b>Exploding gradient problem:</b> gradients grow bigger and bigger until layers get insanely large weight updates and the algorithm diverges."
   ]
  },
  {
   "attachments": {
    "logistic.jpeg": {
     "image/jpeg": "[encoded data removed]"
    }
   },
   "cell_type": "markdown",
   "metadata": {},
   "source": [
    "![logistic.jpeg](attachment:logistic.jpeg)"
   ]
  },
  {
   "cell_type": "markdown",
   "metadata": {},
   "source": [
    "### Initializers"
   ]
  },
  {
   "cell_type": "markdown",
   "metadata": {},
   "source": [
    "Initialization of neuron weights must be random, otherwise they are collinear and\n",
    "backpropagation won’t distinguish their contributions to the output error, but you can choose the distribution (standard practice is to use \"Glorot\" and \"HeNormal\", which alleviate the problem of unstable gradients)"
   ]
  },
  {
   "cell_type": "code",
   "execution_count": 22,
   "metadata": {},
   "outputs": [
    {
     "name": "stdout",
     "output_type": "stream",
     "text": [
      "Model: \"sequential_3\"\n",
      "_________________________________________________________________\n",
      "Layer (type)                 Output Shape              Param #   \n",
      "=================================================================\n",
      "dense_10 (Dense)             (None, 30)                420       \n",
      "_________________________________________________________________\n",
      "dense_11 (Dense)             (None, 15)                465       \n",
      "_________________________________________________________________\n",
      "dense_12 (Dense)             (None, 1)                 16        \n",
      "=================================================================\n",
      "Total params: 901\n",
      "Trainable params: 901\n",
      "Non-trainable params: 0\n",
      "_________________________________________________________________\n"
     ]
    }
   ],
   "source": [
    "X, y = bdata.iloc[:,:],boston.target\n",
    "X_train, X_test, y_train, y_test = train_test_split(X, y, test_size=0.2, random_state=42)\n",
    "\n",
    "from tensorflow.keras import initializers\n",
    "\n",
    "model = keras.models.Sequential()\n",
    "\n",
    "model.add(keras.layers.Dense(30, input_dim = X.shape[1], activation=\"relu\",\n",
    "    kernel_initializer=initializers.he_normal()))\n",
    "model.add(keras.layers.Dense(15, activation=\"relu\"))\n",
    "model.add(keras.layers.Dense(1, activation=\"relu\"))\n",
    "\n",
    "model.summary()\n"
   ]
  },
  {
   "cell_type": "markdown",
   "metadata": {},
   "source": [
    "### Batch Normalization and Early Stopping"
   ]
  },
  {
   "cell_type": "markdown",
   "metadata": {},
   "source": [
    "<b> Batch Normalization: </b> after each layer it normalizes the inputs to have mean zero and variance 1. It helps to increase performance, speed up training, and regularize the model"
   ]
  },
  {
   "cell_type": "code",
   "execution_count": 23,
   "metadata": {},
   "outputs": [
    {
     "name": "stdout",
     "output_type": "stream",
     "text": [
      "Model: \"sequential_4\"\n",
      "_________________________________________________________________\n",
      "Layer (type)                 Output Shape              Param #   \n",
      "=================================================================\n",
      "dense_13 (Dense)             (None, 30)                420       \n",
      "_________________________________________________________________\n",
      "batch_normalization (BatchNo (None, 30)                120       \n",
      "_________________________________________________________________\n",
      "dense_14 (Dense)             (None, 15)                465       \n",
      "_________________________________________________________________\n",
      "batch_normalization_1 (Batch (None, 15)                60        \n",
      "_________________________________________________________________\n",
      "dense_15 (Dense)             (None, 1)                 16        \n",
      "=================================================================\n",
      "Total params: 1,081\n",
      "Trainable params: 991\n",
      "Non-trainable params: 90\n",
      "_________________________________________________________________\n"
     ]
    }
   ],
   "source": [
    "model = keras.models.Sequential()\n",
    "\n",
    "model.add(keras.layers.Dense(30, input_dim = X.shape[1], activation=\"relu\",\n",
    "    kernel_initializer=initializers.he_normal()))\n",
    "model.add(keras.layers.BatchNormalization())\n",
    "model.add(keras.layers.Dense(15, activation=\"relu\"))\n",
    "model.add(keras.layers.BatchNormalization())\n",
    "model.add(keras.layers.Dense(1, activation=\"relu\"))\n",
    "\n",
    "model.summary()"
   ]
  },
  {
   "cell_type": "code",
   "execution_count": 24,
   "metadata": {},
   "outputs": [],
   "source": [
    "model.compile(loss=\"mean_squared_error\",\n",
    "              optimizer=\"adam\",\n",
    "              metrics=[\"mean_squared_error\"])"
   ]
  },
  {
   "cell_type": "code",
   "execution_count": 25,
   "metadata": {},
   "outputs": [
    {
     "name": "stdout",
     "output_type": "stream",
     "text": [
      "Epoch 1/8\n",
      "11/11 [==============================] - 0s 31ms/step - loss: 564.4280 - mean_squared_error: 564.4280 - val_loss: 535.1180 - val_mean_squared_error: 535.1180\n",
      "Epoch 2/8\n",
      "11/11 [==============================] - 0s 13ms/step - loss: 537.6041 - mean_squared_error: 537.6041 - val_loss: 513.4433 - val_mean_squared_error: 513.4433\n",
      "Epoch 3/8\n",
      "11/11 [==============================] - 0s 15ms/step - loss: 524.3103 - mean_squared_error: 524.3103 - val_loss: 501.0786 - val_mean_squared_error: 501.0786\n",
      "Epoch 4/8\n",
      "11/11 [==============================] - 0s 14ms/step - loss: 515.3877 - mean_squared_error: 515.3877 - val_loss: 495.4400 - val_mean_squared_error: 495.4400\n",
      "Epoch 5/8\n",
      "11/11 [==============================] - 0s 16ms/step - loss: 506.2394 - mean_squared_error: 506.2394 - val_loss: 488.6293 - val_mean_squared_error: 488.6293\n",
      "Epoch 6/8\n",
      "11/11 [==============================] - 0s 16ms/step - loss: 497.0059 - mean_squared_error: 497.0059 - val_loss: 479.7079 - val_mean_squared_error: 479.7079\n",
      "Epoch 7/8\n",
      "11/11 [==============================] - 0s 16ms/step - loss: 487.0266 - mean_squared_error: 487.0266 - val_loss: 470.4914 - val_mean_squared_error: 470.4914\n",
      "Epoch 8/8\n",
      "11/11 [==============================] - 0s 18ms/step - loss: 474.8315 - mean_squared_error: 474.8315 - val_loss: 461.8394 - val_mean_squared_error: 461.8394\n"
     ]
    }
   ],
   "source": [
    "es = keras.callbacks.EarlyStopping(monitor='val_loss', mode='min', verbose=1)\n",
    "\n",
    "history = model.fit(X_train, y_train, epochs=8,\n",
    "                    validation_split=0.2, callbacks=[es])"
   ]
  },
  {
   "cell_type": "markdown",
   "metadata": {},
   "source": [
    "### Alternative Activation Functions"
   ]
  },
  {
   "attachments": {
    "elu.jpeg": {
     "image/jpeg": "[encoded data removed]"
    },
    "selu.jpeg": {
     "image/jpeg": "[encoded data removed]"
    }
   },
   "cell_type": "markdown",
   "metadata": {},
   "source": [
    "![elu.jpeg](attachment:elu.jpeg) ![selu.jpeg](attachment:selu.jpeg)"
   ]
  },
  {
   "cell_type": "markdown",
   "metadata": {},
   "source": [
    "Exponential Linear Unit (ELU) and Scaled ELU (SELU). In particular, SELU enhances the performance of the network, that is a neural network with only dense layers, each using SELU as activation function, the network will self-normalize, provided that:\n",
    "- inputs are standardized\n",
    "- it uses LeCun normal initialization for weights\n",
    "- set $\\lambda \\approx 1.0507$ and $\\alpha \\approx 1.6732$\n",
    "- in general SELU > ELU > ReLU\n",
    "\n",
    "Note that with SELU batch normalization is not needed as the newtwork self-normalizes"
   ]
  },
  {
   "cell_type": "markdown",
   "metadata": {},
   "source": [
    "### Optimizer "
   ]
  },
  {
   "cell_type": "markdown",
   "metadata": {},
   "source": [
    "Existing research showed that it has a big impact on the performance of the model. <i>Adam</i> (adaptive moment estimation) is faster and almost as good as <i>sgd</i>. "
   ]
  },
  {
   "cell_type": "code",
   "execution_count": 26,
   "metadata": {},
   "outputs": [
    {
     "name": "stdout",
     "output_type": "stream",
     "text": [
      "Epoch 1/8\n",
      "11/11 [==============================] - 0s 33ms/step - loss: 221.1264 - mean_squared_error: 221.1264 - val_loss: 143.0572 - val_mean_squared_error: 143.0572\n",
      "Epoch 2/8\n",
      "11/11 [==============================] - 0s 13ms/step - loss: 82.6324 - mean_squared_error: 82.6324 - val_loss: 348.9224 - val_mean_squared_error: 348.9224\n",
      "Epoch 00002: early stopping\n"
     ]
    }
   ],
   "source": [
    "model.compile(loss=\"mean_squared_error\",\n",
    "              optimizer=\"sgd\",\n",
    "              metrics=[\"mean_squared_error\"])\n",
    "\n",
    "es = keras.callbacks.EarlyStopping(monitor='val_loss', mode='min', verbose=1)\n",
    "\n",
    "history = model.fit(X_train, y_train, epochs=8,\n",
    "                    validation_split=0.2, callbacks=[es])"
   ]
  },
  {
   "cell_type": "markdown",
   "metadata": {},
   "source": [
    "### Regularization and Dropout"
   ]
  },
  {
   "cell_type": "markdown",
   "metadata": {},
   "source": [
    "Neural network parameters, like regressions, can be regularized with L1 and/or L2 penalties to push weak neurons to zero and create a sparse model $\\rightarrow$ avoid overfitting."
   ]
  },
  {
   "cell_type": "code",
   "execution_count": 27,
   "metadata": {},
   "outputs": [
    {
     "name": "stdout",
     "output_type": "stream",
     "text": [
      "Model: \"sequential_5\"\n",
      "_________________________________________________________________\n",
      "Layer (type)                 Output Shape              Param #   \n",
      "=================================================================\n",
      "dense_16 (Dense)             (None, 30)                420       \n",
      "_________________________________________________________________\n",
      "batch_normalization_2 (Batch (None, 30)                120       \n",
      "_________________________________________________________________\n",
      "dense_17 (Dense)             (None, 15)                465       \n",
      "_________________________________________________________________\n",
      "batch_normalization_3 (Batch (None, 15)                60        \n",
      "_________________________________________________________________\n",
      "dense_18 (Dense)             (None, 1)                 16        \n",
      "=================================================================\n",
      "Total params: 1,081\n",
      "Trainable params: 991\n",
      "Non-trainable params: 90\n",
      "_________________________________________________________________\n"
     ]
    }
   ],
   "source": [
    "model = keras.models.Sequential()\n",
    "\n",
    "model.add(keras.layers.Dense(30, input_dim = X.shape[1], activation=\"relu\",\n",
    "    kernel_initializer=initializers.he_normal(), kernel_regularizer = keras.regularizers.l2(0.01)))\n",
    "model.add(keras.layers.BatchNormalization())\n",
    "model.add(keras.layers.Dense(15, activation=\"relu\"))\n",
    "model.add(keras.layers.BatchNormalization())\n",
    "model.add(keras.layers.Dense(1, activation=\"relu\"))\n",
    "\n",
    "model.summary()"
   ]
  },
  {
   "cell_type": "markdown",
   "metadata": {},
   "source": [
    "Alternatively, use <i>dropout</i> during training (it is NOT used during validation), with probability ($p$) between 10% and 50%. Alternative dropout regularizations are:\n",
    "- Normal dropout: neurons don't get dropped but coefficients are down-weighted by $p$\n",
    "- Monte Carlo dropout: continues to allow dropout but produce 100 predictions, and averages them"
   ]
  },
  {
   "cell_type": "code",
   "execution_count": 28,
   "metadata": {},
   "outputs": [
    {
     "name": "stdout",
     "output_type": "stream",
     "text": [
      "Model: \"sequential_6\"\n",
      "_________________________________________________________________\n",
      "Layer (type)                 Output Shape              Param #   \n",
      "=================================================================\n",
      "dense_19 (Dense)             (None, 30)                420       \n",
      "_________________________________________________________________\n",
      "batch_normalization_4 (Batch (None, 30)                120       \n",
      "_________________________________________________________________\n",
      "dense_20 (Dense)             (None, 15)                465       \n",
      "_________________________________________________________________\n",
      "batch_normalization_5 (Batch (None, 15)                60        \n",
      "_________________________________________________________________\n",
      "dense_21 (Dense)             (None, 1)                 16        \n",
      "=================================================================\n",
      "Total params: 1,081\n",
      "Trainable params: 991\n",
      "Non-trainable params: 90\n",
      "_________________________________________________________________\n"
     ]
    }
   ],
   "source": [
    "model = keras.models.Sequential()\n",
    "\n",
    "model.add(keras.layers.Dense(30, input_dim = X.shape[1], activation=\"relu\",\n",
    "    kernel_initializer=initializers.he_normal()))\n",
    "model.add(keras.layers.BatchNormalization())\n",
    "keras.layers.Dropout(0.3)\n",
    "model.add(keras.layers.Dense(15, activation=\"relu\"))\n",
    "model.add(keras.layers.BatchNormalization())\n",
    "keras.layers.Dropout(0.3)\n",
    "model.add(keras.layers.Dense(1, activation=\"relu\"))\n",
    "\n",
    "model.summary()"
   ]
  },
  {
   "cell_type": "markdown",
   "metadata": {},
   "source": [
    "## Tuning NN Hyperparameters"
   ]
  },
  {
   "cell_type": "markdown",
   "metadata": {},
   "source": [
    "It is an active area of research. One option is to try combinations of hyperparameters and see which one works best on the validation set, using GridSearchCV or RandomizedSearchCV"
   ]
  },
  {
   "cell_type": "code",
   "execution_count": 29,
   "metadata": {},
   "outputs": [
    {
     "name": "stdout",
     "output_type": "stream",
     "text": [
      "Epoch 1/16\n",
      "11/11 [==============================] - 0s 26ms/step - loss: 447.5432 - mean_squared_error: 447.5432 - val_loss: 197.5182 - val_mean_squared_error: 197.5182\n",
      "Epoch 2/16\n",
      "11/11 [==============================] - 0s 15ms/step - loss: 115.4376 - mean_squared_error: 115.4376 - val_loss: 121.8385 - val_mean_squared_error: 121.8385\n",
      "Epoch 3/16\n",
      "11/11 [==============================] - 0s 14ms/step - loss: 69.5850 - mean_squared_error: 69.5850 - val_loss: 106.8039 - val_mean_squared_error: 106.8039\n",
      "Epoch 4/16\n",
      "11/11 [==============================] - 0s 16ms/step - loss: 65.8825 - mean_squared_error: 65.8825 - val_loss: 110.7874 - val_mean_squared_error: 110.7874\n",
      "Epoch 00004: early stopping\n",
      "4/4 [==============================] - 0s 8ms/step - loss: 54.3488 - mean_squared_error: 54.3488\n"
     ]
    }
   ],
   "source": [
    "def build_model(n_hidden=1, n_neurons=30, learning_rate=3e-3, input_dim=X_train.shape[1]):\n",
    "    model = keras.models.Sequential()\n",
    "    model.add(keras.layers.Dense(n_neurons, input_dim=input_dim, activation=\"relu\"))\n",
    "    for layer in range(n_hidden):\n",
    "        model.add(keras.layers.Dense(n_neurons, activation=\"relu\"))\n",
    "    model.add(keras.layers.Dense(1))\n",
    "    optimizer = keras.optimizers.Adam(learning_rate=learning_rate)\n",
    "    model.compile(loss=\"mean_squared_error\", optimizer=optimizer, metrics=[\"mean_squared_error\"])\n",
    "    return model\n",
    "\n",
    "X_train, X_val, y_train, y_val = train_test_split(X_train, y_train, test_size=.2)\n",
    "\n",
    "keras_reg = keras.wrappers.scikit_learn.KerasRegressor(build_model)\n",
    "keras_reg.fit(X_train, y_train, epochs=16,\n",
    "               validation_data=(X_val, y_val),\n",
    "              callbacks=[es])\n",
    "mse_test = keras_reg.score(X_test, y_test)\n",
    "y_pred = keras_reg.predict(X_test)"
   ]
  },
  {
   "cell_type": "code",
   "execution_count": 30,
   "metadata": {},
   "outputs": [
    {
     "name": "stdout",
     "output_type": "stream",
     "text": [
      "Epoch 1/100\n",
      "7/7 [==============================] - 0s 49ms/step - loss: 1661.9679 - mean_squared_error: 1661.9679 - val_loss: 724.7923 - val_mean_squared_error: 724.7923\n",
      "Epoch 2/100\n",
      "7/7 [==============================] - 0s 24ms/step - loss: 658.8304 - mean_squared_error: 658.8304 - val_loss: 434.1162 - val_mean_squared_error: 434.1162\n",
      "Epoch 3/100\n",
      "7/7 [==============================] - 0s 23ms/step - loss: 169.0427 - mean_squared_error: 169.0427 - val_loss: 243.9714 - val_mean_squared_error: 243.9714\n",
      "Epoch 4/100\n",
      "7/7 [==============================] - 0s 26ms/step - loss: 205.5246 - mean_squared_error: 205.5246 - val_loss: 123.6968 - val_mean_squared_error: 123.6968\n",
      "Epoch 5/100\n",
      "7/7 [==============================] - 0s 19ms/step - loss: 72.4928 - mean_squared_error: 72.4928 - val_loss: 170.4462 - val_mean_squared_error: 170.4462\n",
      "Epoch 00005: early stopping\n",
      "4/4 [==============================] - 0s 11ms/step - loss: 102.4958 - mean_squared_error: 102.4958\n",
      "Epoch 1/100\n",
      "7/7 [==============================] - 0s 43ms/step - loss: 128.3360 - mean_squared_error: 128.3360 - val_loss: 116.4733 - val_mean_squared_error: 116.4733\n",
      "Epoch 2/100\n",
      "7/7 [==============================] - 0s 31ms/step - loss: 82.4355 - mean_squared_error: 82.4355 - val_loss: 106.6265 - val_mean_squared_error: 106.6265\n",
      "Epoch 3/100\n",
      "7/7 [==============================] - 0s 24ms/step - loss: 74.5395 - mean_squared_error: 74.5395 - val_loss: 114.6768 - val_mean_squared_error: 114.6768\n",
      "Epoch 00003: early stopping\n",
      "4/4 [==============================] - 0s 2ms/step - loss: 61.3146 - mean_squared_error: 61.3146\n",
      "Epoch 1/100\n",
      "7/7 [==============================] - 0s 50ms/step - loss: 752.1989 - mean_squared_error: 752.1989 - val_loss: 187.5160 - val_mean_squared_error: 187.5160\n",
      "Epoch 2/100\n",
      "7/7 [==============================] - 0s 25ms/step - loss: 308.2167 - mean_squared_error: 308.2167 - val_loss: 224.8439 - val_mean_squared_error: 224.8439\n",
      "Epoch 00002: early stopping\n",
      "4/4 [==============================] - 0s 3ms/step - loss: 221.6236 - mean_squared_error: 221.6236\n",
      "Epoch 1/100\n",
      "7/7 [==============================] - 0s 43ms/step - loss: 2040.6693 - mean_squared_error: 2040.6693 - val_loss: 1385.7338 - val_mean_squared_error: 1385.7338\n",
      "Epoch 2/100\n",
      "7/7 [==============================] - 0s 20ms/step - loss: 1032.6614 - mean_squared_error: 1032.6614 - val_loss: 224.5354 - val_mean_squared_error: 224.5354\n",
      "Epoch 3/100\n",
      "7/7 [==============================] - 0s 22ms/step - loss: 315.8121 - mean_squared_error: 315.8121 - val_loss: 391.3154 - val_mean_squared_error: 391.3154\n",
      "Epoch 00003: early stopping\n",
      "4/4 [==============================] - 0s 8ms/step - loss: 329.7106 - mean_squared_error: 329.7106\n",
      "Epoch 1/100\n",
      "7/7 [==============================] - 0s 39ms/step - loss: 6118.8364 - mean_squared_error: 6118.8364 - val_loss: 240.8821 - val_mean_squared_error: 240.8821\n",
      "Epoch 2/100\n",
      "7/7 [==============================] - 0s 16ms/step - loss: 663.4844 - mean_squared_error: 663.4844 - val_loss: 1622.2849 - val_mean_squared_error: 1622.2849\n",
      "Epoch 00002: early stopping\n",
      "4/4 [==============================] - 0s 7ms/step - loss: 1827.8826 - mean_squared_error: 1827.8826\n",
      "Epoch 1/100\n",
      "7/7 [==============================] - 0s 45ms/step - loss: 966.9001 - mean_squared_error: 966.9001 - val_loss: 223.8427 - val_mean_squared_error: 223.8427\n",
      "Epoch 2/100\n",
      "7/7 [==============================] - 0s 18ms/step - loss: 256.9965 - mean_squared_error: 256.9965 - val_loss: 404.3464 - val_mean_squared_error: 404.3464\n",
      "Epoch 00002: early stopping\n",
      "4/4 [==============================] - 0s 9ms/step - loss: 222.8582 - mean_squared_error: 222.8582\n",
      "Epoch 1/100\n",
      "7/7 [==============================] - 0s 41ms/step - loss: 344.7126 - mean_squared_error: 344.7126 - val_loss: 165.8461 - val_mean_squared_error: 165.8461\n",
      "Epoch 2/100\n",
      "7/7 [==============================] - 0s 22ms/step - loss: 157.3446 - mean_squared_error: 157.3446 - val_loss: 158.0894 - val_mean_squared_error: 158.0894\n",
      "Epoch 3/100\n",
      "7/7 [==============================] - 0s 31ms/step - loss: 97.8450 - mean_squared_error: 97.8450 - val_loss: 154.5625 - val_mean_squared_error: 154.5625\n",
      "Epoch 4/100\n",
      "7/7 [==============================] - 0s 30ms/step - loss: 72.9578 - mean_squared_error: 72.9578 - val_loss: 99.0989 - val_mean_squared_error: 99.0989\n",
      "Epoch 5/100\n",
      "7/7 [==============================] - 0s 28ms/step - loss: 63.2975 - mean_squared_error: 63.2975 - val_loss: 105.4461 - val_mean_squared_error: 105.4461\n",
      "Epoch 00005: early stopping\n",
      "4/4 [==============================] - 0s 5ms/step - loss: 66.5046 - mean_squared_error: 66.5046\n",
      "Epoch 1/100\n",
      "7/7 [==============================] - 0s 48ms/step - loss: 232.7523 - mean_squared_error: 232.7523 - val_loss: 186.8245 - val_mean_squared_error: 186.8245\n",
      "Epoch 2/100\n",
      "7/7 [==============================] - 0s 25ms/step - loss: 90.4532 - mean_squared_error: 90.4532 - val_loss: 121.8666 - val_mean_squared_error: 121.8666\n",
      "Epoch 3/100\n",
      "7/7 [==============================] - 0s 26ms/step - loss: 72.1928 - mean_squared_error: 72.1928 - val_loss: 102.3263 - val_mean_squared_error: 102.3263\n",
      "Epoch 4/100\n",
      "7/7 [==============================] - 0s 24ms/step - loss: 69.6677 - mean_squared_error: 69.6677 - val_loss: 106.7375 - val_mean_squared_error: 106.7375\n",
      "Epoch 00004: early stopping\n",
      "4/4 [==============================] - 0s 8ms/step - loss: 53.2824 - mean_squared_error: 53.2824\n",
      "Epoch 1/100\n",
      "7/7 [==============================] - 0s 50ms/step - loss: 801.2171 - mean_squared_error: 801.2171 - val_loss: 127.1780 - val_mean_squared_error: 127.1780\n",
      "Epoch 2/100\n",
      "7/7 [==============================] - 0s 16ms/step - loss: 152.8188 - mean_squared_error: 152.8188 - val_loss: 116.7565 - val_mean_squared_error: 116.7565\n",
      "Epoch 3/100\n",
      "7/7 [==============================] - 0s 23ms/step - loss: 80.1454 - mean_squared_error: 80.1454 - val_loss: 134.1837 - val_mean_squared_error: 134.1837\n",
      "Epoch 00003: early stopping\n",
      "4/4 [==============================] - 0s 18ms/step - loss: 87.7837 - mean_squared_error: 87.7837\n",
      "Epoch 1/100\n",
      "7/7 [==============================] - 0s 52ms/step - loss: 3839.8801 - mean_squared_error: 3839.8801 - val_loss: 171.4728 - val_mean_squared_error: 171.4728\n",
      "Epoch 2/100\n",
      "7/7 [==============================] - 0s 25ms/step - loss: 96.2605 - mean_squared_error: 96.2605 - val_loss: 131.6189 - val_mean_squared_error: 131.6189\n",
      "Epoch 3/100\n",
      "7/7 [==============================] - 0s 22ms/step - loss: 69.6544 - mean_squared_error: 69.6544 - val_loss: 120.6289 - val_mean_squared_error: 120.6289\n",
      "Epoch 4/100\n",
      "7/7 [==============================] - 0s 29ms/step - loss: 56.8947 - mean_squared_error: 56.8947 - val_loss: 102.7574 - val_mean_squared_error: 102.7574\n",
      "Epoch 5/100\n",
      "7/7 [==============================] - 0s 30ms/step - loss: 54.4293 - mean_squared_error: 54.4293 - val_loss: 123.1720 - val_mean_squared_error: 123.1720\n",
      "Epoch 00005: early stopping\n",
      "4/4 [==============================] - 0s 2ms/step - loss: 77.0049 - mean_squared_error: 77.0049\n",
      "Epoch 1/100\n",
      "7/7 [==============================] - 0s 52ms/step - loss: 7777.1157 - mean_squared_error: 7777.1157 - val_loss: 198.9066 - val_mean_squared_error: 198.9066\n",
      "Epoch 2/100\n",
      "7/7 [==============================] - 0s 22ms/step - loss: 203.0651 - mean_squared_error: 203.0651 - val_loss: 188.5543 - val_mean_squared_error: 188.5543\n",
      "Epoch 3/100\n",
      "7/7 [==============================] - 0s 33ms/step - loss: 143.6062 - mean_squared_error: 143.6062 - val_loss: 115.1436 - val_mean_squared_error: 115.1436\n",
      "Epoch 4/100\n",
      "7/7 [==============================] - 0s 32ms/step - loss: 91.8604 - mean_squared_error: 91.8604 - val_loss: 98.1747 - val_mean_squared_error: 98.1747\n",
      "Epoch 5/100\n",
      "7/7 [==============================] - 0s 34ms/step - loss: 77.2354 - mean_squared_error: 77.2354 - val_loss: 115.7931 - val_mean_squared_error: 115.7931\n",
      "Epoch 00005: early stopping\n",
      "4/4 [==============================] - 0s 8ms/step - loss: 67.6963 - mean_squared_error: 67.6963\n",
      "Epoch 1/100\n",
      "7/7 [==============================] - 0s 47ms/step - loss: 4656.7246 - mean_squared_error: 4656.7246 - val_loss: 247.8216 - val_mean_squared_error: 247.8216\n",
      "Epoch 2/100\n"
     ]
    },
    {
     "name": "stdout",
     "output_type": "stream",
     "text": [
      "7/7 [==============================] - 0s 13ms/step - loss: 185.2262 - mean_squared_error: 185.2262 - val_loss: 101.0059 - val_mean_squared_error: 101.0059\n",
      "Epoch 3/100\n",
      "7/7 [==============================] - 0s 13ms/step - loss: 81.4776 - mean_squared_error: 81.4776 - val_loss: 112.8987 - val_mean_squared_error: 112.8987\n",
      "Epoch 00003: early stopping\n",
      "4/4 [==============================] - 0s 6ms/step - loss: 64.4798 - mean_squared_error: 64.4798\n",
      "Epoch 1/100\n",
      "7/7 [==============================] - 0s 50ms/step - loss: 934.6985 - mean_squared_error: 934.6985 - val_loss: 201.7358 - val_mean_squared_error: 201.7358\n",
      "Epoch 2/100\n",
      "7/7 [==============================] - 0s 21ms/step - loss: 159.3969 - mean_squared_error: 159.3969 - val_loss: 135.5205 - val_mean_squared_error: 135.5205\n",
      "Epoch 3/100\n",
      "7/7 [==============================] - 0s 18ms/step - loss: 77.5566 - mean_squared_error: 77.5566 - val_loss: 119.0359 - val_mean_squared_error: 119.0359\n",
      "Epoch 4/100\n",
      "7/7 [==============================] - 0s 24ms/step - loss: 63.7679 - mean_squared_error: 63.7679 - val_loss: 114.3494 - val_mean_squared_error: 114.3494\n",
      "Epoch 5/100\n",
      "7/7 [==============================] - 0s 24ms/step - loss: 58.9064 - mean_squared_error: 58.9064 - val_loss: 101.0995 - val_mean_squared_error: 101.0995\n",
      "Epoch 6/100\n",
      "7/7 [==============================] - 0s 20ms/step - loss: 59.8442 - mean_squared_error: 59.8442 - val_loss: 100.2543 - val_mean_squared_error: 100.2543\n",
      "Epoch 7/100\n",
      "7/7 [==============================] - 0s 19ms/step - loss: 57.7474 - mean_squared_error: 57.7474 - val_loss: 98.6993 - val_mean_squared_error: 98.6993\n",
      "Epoch 8/100\n",
      "7/7 [==============================] - 0s 22ms/step - loss: 50.6738 - mean_squared_error: 50.6738 - val_loss: 96.5284 - val_mean_squared_error: 96.5284\n",
      "Epoch 9/100\n",
      "7/7 [==============================] - 0s 15ms/step - loss: 49.7071 - mean_squared_error: 49.7071 - val_loss: 93.7666 - val_mean_squared_error: 93.7666\n",
      "Epoch 10/100\n",
      "7/7 [==============================] - 0s 15ms/step - loss: 47.4455 - mean_squared_error: 47.4455 - val_loss: 103.2035 - val_mean_squared_error: 103.2035\n",
      "Epoch 00010: early stopping\n",
      "4/4 [==============================] - 0s 6ms/step - loss: 82.7830 - mean_squared_error: 82.7830\n",
      "Epoch 1/100\n",
      "7/7 [==============================] - 0s 70ms/step - loss: 668.8785 - mean_squared_error: 668.8785 - val_loss: 151.7367 - val_mean_squared_error: 151.7367\n",
      "Epoch 2/100\n",
      "7/7 [==============================] - 0s 17ms/step - loss: 111.3481 - mean_squared_error: 111.3481 - val_loss: 104.0550 - val_mean_squared_error: 104.0550\n",
      "Epoch 3/100\n",
      "7/7 [==============================] - 0s 19ms/step - loss: 74.4381 - mean_squared_error: 74.4381 - val_loss: 95.4689 - val_mean_squared_error: 95.4689\n",
      "Epoch 4/100\n",
      "7/7 [==============================] - 0s 22ms/step - loss: 61.3881 - mean_squared_error: 61.3881 - val_loss: 119.1687 - val_mean_squared_error: 119.1687\n",
      "Epoch 00004: early stopping\n",
      "4/4 [==============================] - 0s 8ms/step - loss: 61.7877 - mean_squared_error: 61.7877\n",
      "Epoch 1/100\n",
      "7/7 [==============================] - 0s 49ms/step - loss: 456.3906 - mean_squared_error: 456.3906 - val_loss: 125.9197 - val_mean_squared_error: 125.9197\n",
      "Epoch 2/100\n",
      "7/7 [==============================] - 0s 23ms/step - loss: 107.0515 - mean_squared_error: 107.0515 - val_loss: 95.4611 - val_mean_squared_error: 95.4611\n",
      "Epoch 3/100\n",
      "7/7 [==============================] - 0s 23ms/step - loss: 82.4443 - mean_squared_error: 82.4443 - val_loss: 144.1250 - val_mean_squared_error: 144.1250\n",
      "Epoch 00003: early stopping\n",
      "4/4 [==============================] - 0s 11ms/step - loss: 95.4352 - mean_squared_error: 95.4352\n",
      "Epoch 1/100\n",
      "7/7 [==============================] - 0s 43ms/step - loss: 18222.7051 - mean_squared_error: 18222.7051 - val_loss: 165.4937 - val_mean_squared_error: 165.4937\n",
      "Epoch 2/100\n",
      "7/7 [==============================] - 0s 22ms/step - loss: 122.6824 - mean_squared_error: 122.6824 - val_loss: 110.9357 - val_mean_squared_error: 110.9357\n",
      "Epoch 3/100\n",
      "7/7 [==============================] - 0s 22ms/step - loss: 162.3943 - mean_squared_error: 162.3943 - val_loss: 131.8198 - val_mean_squared_error: 131.8198\n",
      "Epoch 00003: early stopping\n",
      "4/4 [==============================] - 0s 5ms/step - loss: 118.3345 - mean_squared_error: 118.3345\n",
      "Epoch 1/100\n",
      "7/7 [==============================] - 0s 42ms/step - loss: 16036.5957 - mean_squared_error: 16036.5957 - val_loss: 487.8442 - val_mean_squared_error: 487.8442\n",
      "Epoch 2/100\n",
      "7/7 [==============================] - 0s 22ms/step - loss: 180.2191 - mean_squared_error: 180.2191 - val_loss: 109.7817 - val_mean_squared_error: 109.7817\n",
      "Epoch 3/100\n",
      "7/7 [==============================] - 0s 27ms/step - loss: 89.1783 - mean_squared_error: 89.1783 - val_loss: 179.5991 - val_mean_squared_error: 179.5991\n",
      "Epoch 00003: early stopping\n",
      "4/4 [==============================] - 0s 3ms/step - loss: 108.3756 - mean_squared_error: 108.3756\n",
      "Epoch 1/100\n",
      "7/7 [==============================] - 0s 51ms/step - loss: 4675.6357 - mean_squared_error: 4675.6357 - val_loss: 238.0580 - val_mean_squared_error: 238.0580\n",
      "Epoch 2/100\n",
      "7/7 [==============================] - 0s 21ms/step - loss: 142.0938 - mean_squared_error: 142.0938 - val_loss: 118.9481 - val_mean_squared_error: 118.9481\n",
      "Epoch 3/100\n",
      "7/7 [==============================] - 0s 25ms/step - loss: 73.0703 - mean_squared_error: 73.0703 - val_loss: 95.8275 - val_mean_squared_error: 95.8275\n",
      "Epoch 4/100\n",
      "7/7 [==============================] - 0s 22ms/step - loss: 75.0173 - mean_squared_error: 75.0173 - val_loss: 111.4593 - val_mean_squared_error: 111.4593\n",
      "Epoch 00004: early stopping\n",
      "4/4 [==============================] - 0s 8ms/step - loss: 66.2268 - mean_squared_error: 66.2268\n",
      "Epoch 1/100\n",
      "7/7 [==============================] - 0s 49ms/step - loss: 7866.0547 - mean_squared_error: 7866.0547 - val_loss: 5886.2871 - val_mean_squared_error: 5886.2871\n",
      "Epoch 2/100\n",
      "7/7 [==============================] - 0s 24ms/step - loss: 5028.5732 - mean_squared_error: 5028.5732 - val_loss: 3637.4490 - val_mean_squared_error: 3637.4490\n",
      "Epoch 3/100\n",
      "7/7 [==============================] - 0s 14ms/step - loss: 3056.4316 - mean_squared_error: 3056.4316 - val_loss: 2120.3083 - val_mean_squared_error: 2120.3083\n",
      "Epoch 4/100\n",
      "7/7 [==============================] - 0s 20ms/step - loss: 1798.1099 - mean_squared_error: 1798.1099 - val_loss: 1222.0654 - val_mean_squared_error: 1222.0654\n",
      "Epoch 5/100\n",
      "7/7 [==============================] - 0s 21ms/step - loss: 1088.6687 - mean_squared_error: 1088.6687 - val_loss: 780.2303 - val_mean_squared_error: 780.2303\n",
      "Epoch 6/100\n",
      "7/7 [==============================] - 0s 27ms/step - loss: 739.7808 - mean_squared_error: 739.7808 - val_loss: 597.4935 - val_mean_squared_error: 597.4935\n",
      "Epoch 7/100\n",
      "7/7 [==============================] - 0s 17ms/step - loss: 595.7247 - mean_squared_error: 595.7247 - val_loss: 518.0325 - val_mean_squared_error: 518.0325\n",
      "Epoch 8/100\n",
      "7/7 [==============================] - 0s 17ms/step - loss: 525.9749 - mean_squared_error: 525.9749 - val_loss: 457.5295 - val_mean_squared_error: 457.5295\n",
      "Epoch 9/100\n",
      "7/7 [==============================] - 0s 25ms/step - loss: 456.0262 - mean_squared_error: 456.0262 - val_loss: 395.0884 - val_mean_squared_error: 395.0884\n",
      "Epoch 10/100\n",
      "7/7 [==============================] - 0s 30ms/step - loss: 389.6780 - mean_squared_error: 389.6780 - val_loss: 331.7297 - val_mean_squared_error: 331.7297\n",
      "Epoch 11/100\n",
      "7/7 [==============================] - 0s 24ms/step - loss: 329.0680 - mean_squared_error: 329.0680 - val_loss: 275.6325 - val_mean_squared_error: 275.6325\n",
      "Epoch 12/100\n",
      "7/7 [==============================] - 0s 21ms/step - loss: 278.4500 - mean_squared_error: 278.4500 - val_loss: 229.9091 - val_mean_squared_error: 229.9091\n",
      "Epoch 13/100\n",
      "7/7 [==============================] - 0s 30ms/step - loss: 233.9966 - mean_squared_error: 233.9966 - val_loss: 195.7901 - val_mean_squared_error: 195.7901\n",
      "Epoch 14/100\n",
      "7/7 [==============================] - 0s 19ms/step - loss: 200.3749 - mean_squared_error: 200.3749 - val_loss: 168.7610 - val_mean_squared_error: 168.7610\n",
      "Epoch 15/100\n",
      "7/7 [==============================] - 0s 21ms/step - loss: 172.8575 - mean_squared_error: 172.8575 - val_loss: 147.4674 - val_mean_squared_error: 147.4674\n"
     ]
    },
    {
     "name": "stdout",
     "output_type": "stream",
     "text": [
      "Epoch 16/100\n",
      "7/7 [==============================] - 0s 31ms/step - loss: 148.7013 - mean_squared_error: 148.7013 - val_loss: 131.5567 - val_mean_squared_error: 131.5567\n",
      "Epoch 17/100\n",
      "7/7 [==============================] - 0s 19ms/step - loss: 130.9414 - mean_squared_error: 130.9414 - val_loss: 119.8454 - val_mean_squared_error: 119.8454\n",
      "Epoch 18/100\n",
      "7/7 [==============================] - 0s 21ms/step - loss: 116.9584 - mean_squared_error: 116.9584 - val_loss: 110.7119 - val_mean_squared_error: 110.7119\n",
      "Epoch 19/100\n",
      "7/7 [==============================] - 0s 23ms/step - loss: 105.4322 - mean_squared_error: 105.4322 - val_loss: 103.8195 - val_mean_squared_error: 103.8195\n",
      "Epoch 20/100\n",
      "7/7 [==============================] - 0s 35ms/step - loss: 96.2463 - mean_squared_error: 96.2463 - val_loss: 99.4432 - val_mean_squared_error: 99.4432\n",
      "Epoch 21/100\n",
      "7/7 [==============================] - 0s 28ms/step - loss: 89.5850 - mean_squared_error: 89.5850 - val_loss: 95.7504 - val_mean_squared_error: 95.7504\n",
      "Epoch 22/100\n",
      "7/7 [==============================] - 0s 33ms/step - loss: 84.2565 - mean_squared_error: 84.2565 - val_loss: 93.3721 - val_mean_squared_error: 93.3721\n",
      "Epoch 23/100\n",
      "7/7 [==============================] - 0s 25ms/step - loss: 80.1803 - mean_squared_error: 80.1803 - val_loss: 91.9087 - val_mean_squared_error: 91.9087\n",
      "Epoch 24/100\n",
      "7/7 [==============================] - 0s 26ms/step - loss: 76.8871 - mean_squared_error: 76.8871 - val_loss: 91.1635 - val_mean_squared_error: 91.1635\n",
      "Epoch 25/100\n",
      "7/7 [==============================] - 0s 16ms/step - loss: 74.0215 - mean_squared_error: 74.0215 - val_loss: 90.5325 - val_mean_squared_error: 90.5325\n",
      "Epoch 26/100\n",
      "7/7 [==============================] - 0s 12ms/step - loss: 72.0837 - mean_squared_error: 72.0837 - val_loss: 89.9465 - val_mean_squared_error: 89.9465\n",
      "Epoch 27/100\n",
      "7/7 [==============================] - 0s 12ms/step - loss: 70.2488 - mean_squared_error: 70.2488 - val_loss: 89.8811 - val_mean_squared_error: 89.8811\n",
      "Epoch 28/100\n",
      "7/7 [==============================] - 0s 12ms/step - loss: 68.8783 - mean_squared_error: 68.8783 - val_loss: 89.5943 - val_mean_squared_error: 89.5943\n",
      "Epoch 29/100\n",
      "7/7 [==============================] - 0s 12ms/step - loss: 67.4297 - mean_squared_error: 67.4297 - val_loss: 88.8105 - val_mean_squared_error: 88.8105\n",
      "Epoch 30/100\n",
      "7/7 [==============================] - 0s 12ms/step - loss: 66.2875 - mean_squared_error: 66.2875 - val_loss: 88.8940 - val_mean_squared_error: 88.8940\n",
      "Epoch 00030: early stopping\n",
      "4/4 [==============================] - 0s 2ms/step - loss: 73.9678 - mean_squared_error: 73.9678\n",
      "Epoch 1/100\n",
      "7/7 [==============================] - 0s 55ms/step - loss: 2920.2502 - mean_squared_error: 2920.2502 - val_loss: 1889.2772 - val_mean_squared_error: 1889.2772\n",
      "Epoch 2/100\n",
      "7/7 [==============================] - 0s 14ms/step - loss: 1762.1422 - mean_squared_error: 1762.1422 - val_loss: 1147.3265 - val_mean_squared_error: 1147.3265\n",
      "Epoch 3/100\n",
      "7/7 [==============================] - 0s 17ms/step - loss: 1135.8734 - mean_squared_error: 1135.8734 - val_loss: 817.2522 - val_mean_squared_error: 817.2522\n",
      "Epoch 4/100\n",
      "7/7 [==============================] - 0s 19ms/step - loss: 820.2975 - mean_squared_error: 820.2975 - val_loss: 660.6526 - val_mean_squared_error: 660.6525\n",
      "Epoch 5/100\n",
      "7/7 [==============================] - 0s 19ms/step - loss: 622.2991 - mean_squared_error: 622.2991 - val_loss: 518.4572 - val_mean_squared_error: 518.4572\n",
      "Epoch 6/100\n",
      "7/7 [==============================] - 0s 19ms/step - loss: 470.6854 - mean_squared_error: 470.6854 - val_loss: 391.5486 - val_mean_squared_error: 391.5486\n",
      "Epoch 7/100\n",
      "7/7 [==============================] - 0s 24ms/step - loss: 355.7433 - mean_squared_error: 355.7433 - val_loss: 281.6936 - val_mean_squared_error: 281.6936\n",
      "Epoch 8/100\n",
      "7/7 [==============================] - 0s 21ms/step - loss: 262.0861 - mean_squared_error: 262.0861 - val_loss: 214.3396 - val_mean_squared_error: 214.3397\n",
      "Epoch 9/100\n",
      "7/7 [==============================] - 0s 27ms/step - loss: 203.2719 - mean_squared_error: 203.2719 - val_loss: 172.7988 - val_mean_squared_error: 172.7988\n",
      "Epoch 10/100\n",
      "7/7 [==============================] - 0s 26ms/step - loss: 162.6154 - mean_squared_error: 162.6154 - val_loss: 145.5573 - val_mean_squared_error: 145.5573\n",
      "Epoch 11/100\n",
      "7/7 [==============================] - 0s 33ms/step - loss: 132.9807 - mean_squared_error: 132.9807 - val_loss: 127.7473 - val_mean_squared_error: 127.7473\n",
      "Epoch 12/100\n",
      "7/7 [==============================] - 0s 20ms/step - loss: 113.5304 - mean_squared_error: 113.5304 - val_loss: 116.1267 - val_mean_squared_error: 116.1267\n",
      "Epoch 13/100\n",
      "7/7 [==============================] - 0s 24ms/step - loss: 101.7872 - mean_squared_error: 101.7872 - val_loss: 107.8040 - val_mean_squared_error: 107.8040\n",
      "Epoch 14/100\n",
      "7/7 [==============================] - 0s 21ms/step - loss: 91.4052 - mean_squared_error: 91.4052 - val_loss: 102.2525 - val_mean_squared_error: 102.2525\n",
      "Epoch 15/100\n",
      "7/7 [==============================] - 0s 20ms/step - loss: 84.9230 - mean_squared_error: 84.9230 - val_loss: 98.6440 - val_mean_squared_error: 98.6440\n",
      "Epoch 16/100\n",
      "7/7 [==============================] - 0s 17ms/step - loss: 79.1984 - mean_squared_error: 79.1984 - val_loss: 96.3591 - val_mean_squared_error: 96.3591\n",
      "Epoch 17/100\n",
      "7/7 [==============================] - 0s 17ms/step - loss: 74.8456 - mean_squared_error: 74.8456 - val_loss: 93.9417 - val_mean_squared_error: 93.9417\n",
      "Epoch 18/100\n",
      "7/7 [==============================] - 0s 20ms/step - loss: 71.1348 - mean_squared_error: 71.1348 - val_loss: 91.8561 - val_mean_squared_error: 91.8561\n",
      "Epoch 19/100\n",
      "7/7 [==============================] - 0s 22ms/step - loss: 68.2284 - mean_squared_error: 68.2284 - val_loss: 90.0962 - val_mean_squared_error: 90.0962\n",
      "Epoch 20/100\n",
      "7/7 [==============================] - 0s 24ms/step - loss: 65.7045 - mean_squared_error: 65.7045 - val_loss: 88.3017 - val_mean_squared_error: 88.3017\n",
      "Epoch 21/100\n",
      "7/7 [==============================] - 0s 25ms/step - loss: 63.7250 - mean_squared_error: 63.7250 - val_loss: 86.6847 - val_mean_squared_error: 86.6847\n",
      "Epoch 22/100\n",
      "7/7 [==============================] - 0s 32ms/step - loss: 61.8199 - mean_squared_error: 61.8199 - val_loss: 85.4166 - val_mean_squared_error: 85.4166\n",
      "Epoch 23/100\n",
      "7/7 [==============================] - 0s 22ms/step - loss: 60.1940 - mean_squared_error: 60.1940 - val_loss: 84.3619 - val_mean_squared_error: 84.3619\n",
      "Epoch 24/100\n",
      "7/7 [==============================] - 0s 31ms/step - loss: 59.1227 - mean_squared_error: 59.1227 - val_loss: 83.9931 - val_mean_squared_error: 83.9931\n",
      "Epoch 25/100\n",
      "7/7 [==============================] - 0s 30ms/step - loss: 57.6129 - mean_squared_error: 57.6129 - val_loss: 82.1062 - val_mean_squared_error: 82.1062\n",
      "Epoch 26/100\n",
      "7/7 [==============================] - 0s 22ms/step - loss: 56.8707 - mean_squared_error: 56.8707 - val_loss: 81.1743 - val_mean_squared_error: 81.1743\n",
      "Epoch 27/100\n",
      "7/7 [==============================] - 0s 25ms/step - loss: 56.0580 - mean_squared_error: 56.0580 - val_loss: 80.9515 - val_mean_squared_error: 80.9515\n",
      "Epoch 28/100\n",
      "7/7 [==============================] - 0s 20ms/step - loss: 55.1809 - mean_squared_error: 55.1809 - val_loss: 80.1570 - val_mean_squared_error: 80.1570\n",
      "Epoch 29/100\n",
      "7/7 [==============================] - 0s 24ms/step - loss: 54.8650 - mean_squared_error: 54.8650 - val_loss: 79.5760 - val_mean_squared_error: 79.5760\n",
      "Epoch 30/100\n",
      "7/7 [==============================] - 0s 34ms/step - loss: 53.9754 - mean_squared_error: 53.9754 - val_loss: 79.8930 - val_mean_squared_error: 79.8930\n",
      "Epoch 00030: early stopping\n",
      "4/4 [==============================] - 0s 3ms/step - loss: 46.0540 - mean_squared_error: 46.0540\n",
      "Epoch 1/100\n",
      "7/7 [==============================] - 0s 57ms/step - loss: 288.2810 - mean_squared_error: 288.2810 - val_loss: 235.5495 - val_mean_squared_error: 235.5495\n",
      "Epoch 2/100\n",
      "7/7 [==============================] - 0s 41ms/step - loss: 146.1218 - mean_squared_error: 146.1218 - val_loss: 160.2258 - val_mean_squared_error: 160.2258\n",
      "Epoch 3/100\n",
      "7/7 [==============================] - 0s 34ms/step - loss: 112.2806 - mean_squared_error: 112.2806 - val_loss: 120.7307 - val_mean_squared_error: 120.7307\n"
     ]
    },
    {
     "name": "stdout",
     "output_type": "stream",
     "text": [
      "Epoch 4/100\n",
      "7/7 [==============================] - 0s 18ms/step - loss: 77.9506 - mean_squared_error: 77.9506 - val_loss: 112.5201 - val_mean_squared_error: 112.5201\n",
      "Epoch 5/100\n",
      "7/7 [==============================] - 0s 30ms/step - loss: 67.3434 - mean_squared_error: 67.3434 - val_loss: 100.0748 - val_mean_squared_error: 100.0748\n",
      "Epoch 6/100\n",
      "7/7 [==============================] - 0s 40ms/step - loss: 62.9150 - mean_squared_error: 62.9150 - val_loss: 90.0119 - val_mean_squared_error: 90.0119\n",
      "Epoch 7/100\n",
      "7/7 [==============================] - 0s 32ms/step - loss: 60.1927 - mean_squared_error: 60.1927 - val_loss: 84.3719 - val_mean_squared_error: 84.3719\n",
      "Epoch 8/100\n",
      "7/7 [==============================] - 0s 41ms/step - loss: 59.4852 - mean_squared_error: 59.4852 - val_loss: 83.7679 - val_mean_squared_error: 83.7679\n",
      "Epoch 9/100\n",
      "7/7 [==============================] - 0s 16ms/step - loss: 57.5818 - mean_squared_error: 57.5818 - val_loss: 86.3750 - val_mean_squared_error: 86.3750\n",
      "Epoch 00009: early stopping\n",
      "4/4 [==============================] - 0s 6ms/step - loss: 60.5659 - mean_squared_error: 60.5659\n",
      "Epoch 1/100\n",
      "7/7 [==============================] - 0s 55ms/step - loss: 1681.1428 - mean_squared_error: 1681.1428 - val_loss: 142.5112 - val_mean_squared_error: 142.5112\n",
      "Epoch 2/100\n",
      "7/7 [==============================] - 0s 18ms/step - loss: 170.6423 - mean_squared_error: 170.6423 - val_loss: 134.9610 - val_mean_squared_error: 134.9610\n",
      "Epoch 3/100\n",
      "7/7 [==============================] - 0s 19ms/step - loss: 101.3793 - mean_squared_error: 101.3793 - val_loss: 98.2592 - val_mean_squared_error: 98.2592\n",
      "Epoch 4/100\n",
      "7/7 [==============================] - 0s 21ms/step - loss: 70.1946 - mean_squared_error: 70.1946 - val_loss: 117.6101 - val_mean_squared_error: 117.6101\n",
      "Epoch 00004: early stopping\n",
      "4/4 [==============================] - 0s 9ms/step - loss: 73.8437 - mean_squared_error: 73.8437\n",
      "Epoch 1/100\n",
      "7/7 [==============================] - 0s 53ms/step - loss: 2155.9746 - mean_squared_error: 2155.9746 - val_loss: 236.1973 - val_mean_squared_error: 236.1973\n",
      "Epoch 2/100\n",
      "7/7 [==============================] - 0s 23ms/step - loss: 116.6331 - mean_squared_error: 116.6331 - val_loss: 140.7746 - val_mean_squared_error: 140.7746\n",
      "Epoch 3/100\n",
      "7/7 [==============================] - 0s 21ms/step - loss: 76.5601 - mean_squared_error: 76.5601 - val_loss: 118.7237 - val_mean_squared_error: 118.7237\n",
      "Epoch 4/100\n",
      "7/7 [==============================] - 0s 30ms/step - loss: 72.0697 - mean_squared_error: 72.0697 - val_loss: 118.8084 - val_mean_squared_error: 118.8084\n",
      "Epoch 00004: early stopping\n",
      "4/4 [==============================] - 0s 7ms/step - loss: 53.5408 - mean_squared_error: 53.5408\n",
      "Epoch 1/100\n",
      "7/7 [==============================] - 0s 53ms/step - loss: 1271.6681 - mean_squared_error: 1271.6681 - val_loss: 140.3975 - val_mean_squared_error: 140.3975\n",
      "Epoch 2/100\n",
      "7/7 [==============================] - 0s 15ms/step - loss: 99.9272 - mean_squared_error: 99.9272 - val_loss: 113.0295 - val_mean_squared_error: 113.0295\n",
      "Epoch 3/100\n",
      "7/7 [==============================] - 0s 24ms/step - loss: 67.9263 - mean_squared_error: 67.9263 - val_loss: 100.6477 - val_mean_squared_error: 100.6477\n",
      "Epoch 4/100\n",
      "7/7 [==============================] - 0s 23ms/step - loss: 63.6610 - mean_squared_error: 63.6610 - val_loss: 112.3770 - val_mean_squared_error: 112.3770\n",
      "Epoch 00004: early stopping\n",
      "4/4 [==============================] - 0s 6ms/step - loss: 82.7832 - mean_squared_error: 82.7832\n",
      "Epoch 1/100\n",
      "7/7 [==============================] - 0s 44ms/step - loss: 13100.8984 - mean_squared_error: 13100.8984 - val_loss: 3930.0300 - val_mean_squared_error: 3930.0300\n",
      "Epoch 2/100\n",
      "7/7 [==============================] - 0s 17ms/step - loss: 1904.9523 - mean_squared_error: 1904.9523 - val_loss: 267.7061 - val_mean_squared_error: 267.7061\n",
      "Epoch 3/100\n",
      "7/7 [==============================] - 0s 22ms/step - loss: 742.5337 - mean_squared_error: 742.5337 - val_loss: 1587.2125 - val_mean_squared_error: 1587.2125\n",
      "Epoch 00003: early stopping\n",
      "4/4 [==============================] - 0s 6ms/step - loss: 1473.3700 - mean_squared_error: 1473.3700\n",
      "Epoch 1/100\n",
      "7/7 [==============================] - 0s 46ms/step - loss: 7599.6719 - mean_squared_error: 7599.6719 - val_loss: 2677.2588 - val_mean_squared_error: 2677.2588\n",
      "Epoch 2/100\n",
      "7/7 [==============================] - 0s 33ms/step - loss: 1421.8347 - mean_squared_error: 1421.8347 - val_loss: 1217.5521 - val_mean_squared_error: 1217.5521\n",
      "Epoch 3/100\n",
      "7/7 [==============================] - 0s 18ms/step - loss: 1493.6796 - mean_squared_error: 1493.6796 - val_loss: 1244.3181 - val_mean_squared_error: 1244.3181\n",
      "Epoch 00003: early stopping\n",
      "4/4 [==============================] - 0s 9ms/step - loss: 1254.5604 - mean_squared_error: 1254.5604\n",
      "Epoch 1/100\n",
      "7/7 [==============================] - 0s 48ms/step - loss: 138.9962 - mean_squared_error: 138.9962 - val_loss: 149.2196 - val_mean_squared_error: 149.2196\n",
      "Epoch 2/100\n",
      "7/7 [==============================] - 0s 21ms/step - loss: 95.4500 - mean_squared_error: 95.4500 - val_loss: 164.6770 - val_mean_squared_error: 164.6770\n",
      "Epoch 00002: early stopping\n",
      "4/4 [==============================] - 0s 3ms/step - loss: 99.3101 - mean_squared_error: 99.3101\n",
      "Epoch 1/100\n",
      "7/7 [==============================] - 0s 50ms/step - loss: 719.3406 - mean_squared_error: 719.3406 - val_loss: 449.1072 - val_mean_squared_error: 449.1072\n",
      "Epoch 2/100\n",
      "7/7 [==============================] - 0s 25ms/step - loss: 224.5693 - mean_squared_error: 224.5693 - val_loss: 223.3059 - val_mean_squared_error: 223.3059\n",
      "Epoch 3/100\n",
      "7/7 [==============================] - 0s 34ms/step - loss: 140.9303 - mean_squared_error: 140.9303 - val_loss: 204.4074 - val_mean_squared_error: 204.4074\n",
      "Epoch 4/100\n",
      "7/7 [==============================] - 0s 27ms/step - loss: 86.7597 - mean_squared_error: 86.7597 - val_loss: 102.0026 - val_mean_squared_error: 102.0026\n",
      "Epoch 5/100\n",
      "7/7 [==============================] - 0s 25ms/step - loss: 70.6121 - mean_squared_error: 70.6121 - val_loss: 103.3249 - val_mean_squared_error: 103.3249\n",
      "Epoch 00005: early stopping\n",
      "4/4 [==============================] - 0s 3ms/step - loss: 65.5754 - mean_squared_error: 65.5754\n",
      "Epoch 1/100\n",
      "7/7 [==============================] - 0s 51ms/step - loss: 2406.8892 - mean_squared_error: 2406.8892 - val_loss: 535.6393 - val_mean_squared_error: 535.6393\n",
      "Epoch 2/100\n",
      "7/7 [==============================] - 0s 19ms/step - loss: 562.5145 - mean_squared_error: 562.5145 - val_loss: 478.2060 - val_mean_squared_error: 478.2060\n",
      "Epoch 3/100\n",
      "7/7 [==============================] - 0s 17ms/step - loss: 289.2497 - mean_squared_error: 289.2497 - val_loss: 137.3270 - val_mean_squared_error: 137.3270\n",
      "Epoch 4/100\n",
      "7/7 [==============================] - 0s 32ms/step - loss: 151.5411 - mean_squared_error: 151.5411 - val_loss: 284.5098 - val_mean_squared_error: 284.5098\n",
      "Epoch 00004: early stopping\n",
      "4/4 [==============================] - 0s 3ms/step - loss: 169.4268 - mean_squared_error: 169.4268\n",
      "Epoch 1/100\n",
      "7/7 [==============================] - 0s 40ms/step - loss: 104.3053 - mean_squared_error: 104.3053 - val_loss: 111.1728 - val_mean_squared_error: 111.1728\n",
      "Epoch 2/100\n",
      "7/7 [==============================] - 0s 15ms/step - loss: 70.0181 - mean_squared_error: 70.0181 - val_loss: 100.7316 - val_mean_squared_error: 100.7316\n",
      "Epoch 3/100\n",
      "7/7 [==============================] - 0s 15ms/step - loss: 74.0216 - mean_squared_error: 74.0216 - val_loss: 131.9786 - val_mean_squared_error: 131.9786\n",
      "Epoch 00003: early stopping\n",
      "4/4 [==============================] - 0s 2ms/step - loss: 72.9957 - mean_squared_error: 72.9957\n"
     ]
    },
    {
     "ename": "RuntimeError",
     "evalue": "Cannot clone object <tensorflow.python.keras.wrappers.scikit_learn.KerasRegressor object at 0x7fecc6afe610>, as the constructor either does not set or modifies parameter learning_rate",
     "output_type": "error",
     "traceback": [
      "\u001b[0;31m---------------------------------------------------------------------------\u001b[0m",
      "\u001b[0;31mRuntimeError\u001b[0m                              Traceback (most recent call last)",
      "\u001b[0;32m<ipython-input-30-a25aea9a656d>\u001b[0m in \u001b[0;36m<module>\u001b[0;34m\u001b[0m\n\u001b[1;32m     10\u001b[0m \u001b[0;34m\u001b[0m\u001b[0m\n\u001b[1;32m     11\u001b[0m \u001b[0mrnd_search_cv\u001b[0m \u001b[0;34m=\u001b[0m \u001b[0mRandomizedSearchCV\u001b[0m\u001b[0;34m(\u001b[0m\u001b[0mkeras_reg\u001b[0m\u001b[0;34m,\u001b[0m \u001b[0mparam_distribs\u001b[0m\u001b[0;34m,\u001b[0m \u001b[0mn_iter\u001b[0m\u001b[0;34m=\u001b[0m\u001b[0;36m10\u001b[0m\u001b[0;34m,\u001b[0m \u001b[0mcv\u001b[0m\u001b[0;34m=\u001b[0m\u001b[0;36m3\u001b[0m\u001b[0;34m)\u001b[0m\u001b[0;34m\u001b[0m\u001b[0;34m\u001b[0m\u001b[0m\n\u001b[0;32m---> 12\u001b[0;31m rnd_search_cv.fit(X_train, y_train, epochs=100,\n\u001b[0m\u001b[1;32m     13\u001b[0m                   \u001b[0mvalidation_data\u001b[0m\u001b[0;34m=\u001b[0m\u001b[0;34m(\u001b[0m\u001b[0mX_val\u001b[0m\u001b[0;34m,\u001b[0m \u001b[0my_val\u001b[0m\u001b[0;34m)\u001b[0m\u001b[0;34m,\u001b[0m\u001b[0;34m\u001b[0m\u001b[0;34m\u001b[0m\u001b[0m\n\u001b[1;32m     14\u001b[0m                   callbacks=[es])\n",
      "\u001b[0;32m~/anaconda3/lib/python3.8/site-packages/sklearn/utils/validation.py\u001b[0m in \u001b[0;36minner_f\u001b[0;34m(*args, **kwargs)\u001b[0m\n\u001b[1;32m     71\u001b[0m                           FutureWarning)\n\u001b[1;32m     72\u001b[0m         \u001b[0mkwargs\u001b[0m\u001b[0;34m.\u001b[0m\u001b[0mupdate\u001b[0m\u001b[0;34m(\u001b[0m\u001b[0;34m{\u001b[0m\u001b[0mk\u001b[0m\u001b[0;34m:\u001b[0m \u001b[0marg\u001b[0m \u001b[0;32mfor\u001b[0m \u001b[0mk\u001b[0m\u001b[0;34m,\u001b[0m \u001b[0marg\u001b[0m \u001b[0;32min\u001b[0m \u001b[0mzip\u001b[0m\u001b[0;34m(\u001b[0m\u001b[0msig\u001b[0m\u001b[0;34m.\u001b[0m\u001b[0mparameters\u001b[0m\u001b[0;34m,\u001b[0m \u001b[0margs\u001b[0m\u001b[0;34m)\u001b[0m\u001b[0;34m}\u001b[0m\u001b[0;34m)\u001b[0m\u001b[0;34m\u001b[0m\u001b[0;34m\u001b[0m\u001b[0m\n\u001b[0;32m---> 73\u001b[0;31m         \u001b[0;32mreturn\u001b[0m \u001b[0mf\u001b[0m\u001b[0;34m(\u001b[0m\u001b[0;34m**\u001b[0m\u001b[0mkwargs\u001b[0m\u001b[0;34m)\u001b[0m\u001b[0;34m\u001b[0m\u001b[0;34m\u001b[0m\u001b[0m\n\u001b[0m\u001b[1;32m     74\u001b[0m     \u001b[0;32mreturn\u001b[0m \u001b[0minner_f\u001b[0m\u001b[0;34m\u001b[0m\u001b[0;34m\u001b[0m\u001b[0m\n\u001b[1;32m     75\u001b[0m \u001b[0;34m\u001b[0m\u001b[0m\n",
      "\u001b[0;32m~/anaconda3/lib/python3.8/site-packages/sklearn/model_selection/_search.py\u001b[0m in \u001b[0;36mfit\u001b[0;34m(self, X, y, groups, **fit_params)\u001b[0m\n\u001b[1;32m    759\u001b[0m             \u001b[0;31m# we clone again after setting params in case some\u001b[0m\u001b[0;34m\u001b[0m\u001b[0;34m\u001b[0m\u001b[0;34m\u001b[0m\u001b[0m\n\u001b[1;32m    760\u001b[0m             \u001b[0;31m# of the params are estimators as well.\u001b[0m\u001b[0;34m\u001b[0m\u001b[0;34m\u001b[0m\u001b[0;34m\u001b[0m\u001b[0m\n\u001b[0;32m--> 761\u001b[0;31m             self.best_estimator_ = clone(clone(base_estimator).set_params(\n\u001b[0m\u001b[1;32m    762\u001b[0m                 **self.best_params_))\n\u001b[1;32m    763\u001b[0m             \u001b[0mrefit_start_time\u001b[0m \u001b[0;34m=\u001b[0m \u001b[0mtime\u001b[0m\u001b[0;34m.\u001b[0m\u001b[0mtime\u001b[0m\u001b[0;34m(\u001b[0m\u001b[0;34m)\u001b[0m\u001b[0;34m\u001b[0m\u001b[0;34m\u001b[0m\u001b[0m\n",
      "\u001b[0;32m~/anaconda3/lib/python3.8/site-packages/sklearn/utils/validation.py\u001b[0m in \u001b[0;36minner_f\u001b[0;34m(*args, **kwargs)\u001b[0m\n\u001b[1;32m     71\u001b[0m                           FutureWarning)\n\u001b[1;32m     72\u001b[0m         \u001b[0mkwargs\u001b[0m\u001b[0;34m.\u001b[0m\u001b[0mupdate\u001b[0m\u001b[0;34m(\u001b[0m\u001b[0;34m{\u001b[0m\u001b[0mk\u001b[0m\u001b[0;34m:\u001b[0m \u001b[0marg\u001b[0m \u001b[0;32mfor\u001b[0m \u001b[0mk\u001b[0m\u001b[0;34m,\u001b[0m \u001b[0marg\u001b[0m \u001b[0;32min\u001b[0m \u001b[0mzip\u001b[0m\u001b[0;34m(\u001b[0m\u001b[0msig\u001b[0m\u001b[0;34m.\u001b[0m\u001b[0mparameters\u001b[0m\u001b[0;34m,\u001b[0m \u001b[0margs\u001b[0m\u001b[0;34m)\u001b[0m\u001b[0;34m}\u001b[0m\u001b[0;34m)\u001b[0m\u001b[0;34m\u001b[0m\u001b[0;34m\u001b[0m\u001b[0m\n\u001b[0;32m---> 73\u001b[0;31m         \u001b[0;32mreturn\u001b[0m \u001b[0mf\u001b[0m\u001b[0;34m(\u001b[0m\u001b[0;34m**\u001b[0m\u001b[0mkwargs\u001b[0m\u001b[0;34m)\u001b[0m\u001b[0;34m\u001b[0m\u001b[0;34m\u001b[0m\u001b[0m\n\u001b[0m\u001b[1;32m     74\u001b[0m     \u001b[0;32mreturn\u001b[0m \u001b[0minner_f\u001b[0m\u001b[0;34m\u001b[0m\u001b[0;34m\u001b[0m\u001b[0m\n\u001b[1;32m     75\u001b[0m \u001b[0;34m\u001b[0m\u001b[0m\n",
      "\u001b[0;32m~/anaconda3/lib/python3.8/site-packages/sklearn/base.py\u001b[0m in \u001b[0;36mclone\u001b[0;34m(estimator, safe)\u001b[0m\n\u001b[1;32m     94\u001b[0m         \u001b[0mparam2\u001b[0m \u001b[0;34m=\u001b[0m \u001b[0mparams_set\u001b[0m\u001b[0;34m[\u001b[0m\u001b[0mname\u001b[0m\u001b[0;34m]\u001b[0m\u001b[0;34m\u001b[0m\u001b[0;34m\u001b[0m\u001b[0m\n\u001b[1;32m     95\u001b[0m         \u001b[0;32mif\u001b[0m \u001b[0mparam1\u001b[0m \u001b[0;32mis\u001b[0m \u001b[0;32mnot\u001b[0m \u001b[0mparam2\u001b[0m\u001b[0;34m:\u001b[0m\u001b[0;34m\u001b[0m\u001b[0;34m\u001b[0m\u001b[0m\n\u001b[0;32m---> 96\u001b[0;31m             raise RuntimeError('Cannot clone object %s, as the constructor '\n\u001b[0m\u001b[1;32m     97\u001b[0m                                \u001b[0;34m'either does not set or modifies parameter %s'\u001b[0m \u001b[0;34m%\u001b[0m\u001b[0;34m\u001b[0m\u001b[0;34m\u001b[0m\u001b[0m\n\u001b[1;32m     98\u001b[0m                                (estimator, name))\n",
      "\u001b[0;31mRuntimeError\u001b[0m: Cannot clone object <tensorflow.python.keras.wrappers.scikit_learn.KerasRegressor object at 0x7fecc6afe610>, as the constructor either does not set or modifies parameter learning_rate"
     ]
    }
   ],
   "source": [
    "from scipy.stats import reciprocal\n",
    "from sklearn.model_selection import RandomizedSearchCV\n",
    "import numpy as np\n",
    "\n",
    "param_distribs = {\n",
    "    \"n_hidden\": [0, 1, 2, 3],\n",
    "    \"n_neurons\": np.arange(1, 100),\n",
    "    \"learning_rate\": reciprocal(3e-4, 3e-2),\n",
    "}\n",
    "\n",
    "rnd_search_cv = RandomizedSearchCV(keras_reg, param_distribs, n_iter=10, cv=3)\n",
    "rnd_search_cv.fit(X_train, y_train, epochs=100,\n",
    "                  validation_data=(X_val, y_val),\n",
    "                  callbacks=[es])\n"
   ]
  },
  {
   "cell_type": "code",
   "execution_count": 31,
   "metadata": {},
   "outputs": [
    {
     "name": "stdout",
     "output_type": "stream",
     "text": [
      "Best Parameters: \n",
      "{'learning_rate': 0.0003315798231237142, 'n_hidden': 0, 'n_neurons': 81}\n",
      "Best Score:  -60.195882161458336\n"
     ]
    }
   ],
   "source": [
    "print('Best Parameters: ')\n",
    "print(rnd_search_cv.best_params_)\n",
    "print('Best Score: ', rnd_search_cv.best_score_)"
   ]
  },
  {
   "cell_type": "markdown",
   "metadata": {},
   "source": [
    "However, this approach is quite time consuming, thus, allows you to test only a few combinations of hyperparameters. Some suggestions:\n",
    "- It is better to have too many layers, and use regularization\n",
    "- Try between 1 and 5 layers\n",
    "- Adding layers usually helps more than adding neurons\n",
    "- Using ReLU in hidden layers is a good baseline"
   ]
  },
  {
   "cell_type": "code",
   "execution_count": null,
   "metadata": {},
   "outputs": [],
   "source": []
  }
 ],
 "metadata": {
  "kernelspec": {
   "display_name": "Python 3",
   "language": "python",
   "name": "python3"
  },
  "language_info": {
   "codemirror_mode": {
    "name": "ipython",
    "version": 3
   },
   "file_extension": ".py",
   "mimetype": "text/x-python",
   "name": "python",
   "nbconvert_exporter": "python",
   "pygments_lexer": "ipython3",
   "version": "3.8.3"
  }
 },
 "nbformat": 4,
 "nbformat_minor": 4
}
